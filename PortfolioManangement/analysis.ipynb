{
 "cells": [
  {
   "cell_type": "code",
   "execution_count": 15,
   "metadata": {},
   "outputs": [],
   "source": [
    "import pandas as pd\n",
    "import yfinance as yf\n",
    "from pypfopt.efficient_frontier import EfficientFrontier\n",
    "from pypfopt.expected_returns import mean_historical_return\n",
    "from pypfopt.risk_models import CovarianceShrinkage\n",
    "from pypfopt.hierarchical_portfolio import HRPOpt\n",
    "from datetime import date"
   ]
  },
  {
   "cell_type": "code",
   "execution_count": 2,
   "metadata": {},
   "outputs": [],
   "source": [
    "\n",
    "'''\n",
    "\n",
    "SP - 500 Consituents\n",
    "\n",
    "'''\n",
    "\n",
    "\n",
    "sp500 = pd.read_csv('sp500_holdings_june_2022.csv')[:505][['Ticker', 'Sector']]\n"
   ]
  },
  {
   "cell_type": "code",
   "execution_count": 38,
   "metadata": {},
   "outputs": [],
   "source": [
    "\n",
    "\n",
    "folio = yf.download([\"AAPL\", \"SG\", \"ACLS\", \"APO\", \"V\", \"AVAV\"], '2010-01-04', progress = False)['Close']\n",
    "\n"
   ]
  },
  {
   "cell_type": "code",
   "execution_count": 4,
   "metadata": {},
   "outputs": [],
   "source": [
    "\n",
    "\n",
    "mu = mean_historical_return(folio)\n",
    "S = CovarianceShrinkage(folio).ledoit_wolf()\n",
    "\n"
   ]
  },
  {
   "cell_type": "code",
   "execution_count": 39,
   "metadata": {},
   "outputs": [
    {
     "data": {
      "text/plain": [
       "OrderedDict([('AAPL', 0.2525203169075635),\n",
       "             ('ACLS', 0.0591940548491706),\n",
       "             ('APO', 0.15531120525230344),\n",
       "             ('AVAV', 0.14329582375748265),\n",
       "             ('SG', 0.014719290254988285),\n",
       "             ('V', 0.37495930897849156)])"
      ]
     },
     "execution_count": 39,
     "metadata": {},
     "output_type": "execute_result"
    }
   ],
   "source": [
    "\n",
    "HRP = HRPOpt(folio.pct_change())\n",
    "\n",
    "HRP.optimize()\n",
    "\n"
   ]
  },
  {
   "cell_type": "code",
   "execution_count": 40,
   "metadata": {},
   "outputs": [
    {
     "name": "stdout",
     "output_type": "stream",
     "text": [
      "Expected annual return: 20.8%\n",
      "Annual volatility: 23.4%\n",
      "Sharpe Ratio: 0.80\n"
     ]
    },
    {
     "data": {
      "text/plain": [
       "(0.20811208023344466, 0.23426219283356745, 0.8029980337761531)"
      ]
     },
     "execution_count": 40,
     "metadata": {},
     "output_type": "execute_result"
    }
   ],
   "source": [
    "\n",
    "\n",
    "HRP.portfolio_performance(True)\n",
    "\n"
   ]
  },
  {
   "cell_type": "code",
   "execution_count": 22,
   "metadata": {},
   "outputs": [
    {
     "name": "stdout",
     "output_type": "stream",
     "text": [
      "Expected annual return: 35.0%\n",
      "Annual volatility: 30.4%\n",
      "Sharpe Ratio: 1.09\n"
     ]
    },
    {
     "data": {
      "text/plain": [
       "(0.3502987128552621, 0.3039236136205092, 1.086782000649959)"
      ]
     },
     "execution_count": 22,
     "metadata": {},
     "output_type": "execute_result"
    }
   ],
   "source": [
    "\n",
    "ef = EfficientFrontier(mu, S)\n",
    "\n",
    "ef.add_constraint(lambda x : x >= 0.05)\n",
    "ef.add_constraint(lambda x : x <= 0.45)\n",
    "\n",
    "weights = ef.max_sharpe()\n",
    "\n",
    "ef.portfolio_performance(verbose=True)\n"
   ]
  },
  {
   "cell_type": "code",
   "execution_count": 6,
   "metadata": {},
   "outputs": [
    {
     "data": {
      "text/plain": [
       "OrderedDict([('AAPL', 0.45),\n",
       "             ('ACLS', 0.0500000000000001),\n",
       "             ('ACMR', 0.45),\n",
       "             ('SG', 0.05)])"
      ]
     },
     "execution_count": 6,
     "metadata": {},
     "output_type": "execute_result"
    }
   ],
   "source": [
    "\n",
    "weights\n"
   ]
  },
  {
   "cell_type": "code",
   "execution_count": 28,
   "metadata": {},
   "outputs": [],
   "source": [
    "\n",
    "\n",
    "def get_cash_asset_ratio(tick):\n",
    "\n",
    "    try:\n",
    "        return tick.balance_sheet.T['Cash'][0] / tick.balance_sheet.T['Total Assets'][0]\n",
    "    except:\n",
    "        return None\n",
    "\n",
    "\n",
    "\n"
   ]
  },
  {
   "cell_type": "code",
   "execution_count": 31,
   "metadata": {},
   "outputs": [],
   "source": [
    "aapl = yf.Ticker(\"AAPL\")\n",
    "\n",
    "#aapl.get_recommendations()\n",
    "\n",
    "#aapl.option_chain()[0]"
   ]
  },
  {
   "cell_type": "code",
   "execution_count": 32,
   "metadata": {},
   "outputs": [
    {
     "data": {
      "text/plain": [
       "0.09954359234420317"
      ]
     },
     "execution_count": 32,
     "metadata": {},
     "output_type": "execute_result"
    }
   ],
   "source": [
    "\n",
    "\n",
    "get_cash_asset_ratio(aapl)\n",
    "\n"
   ]
  },
  {
   "cell_type": "code",
   "execution_count": 57,
   "metadata": {},
   "outputs": [
    {
     "name": "stdout",
     "output_type": "stream",
     "text": [
      "AAPL\n",
      "MSFT\n",
      "AMZN\n",
      "GOOGL\n",
      "GOOG\n",
      "TSLA\n",
      "BRK.B\n",
      "UNH\n",
      "JNJ\n",
      "NVDA\n",
      "FB\n",
      "XOM\n",
      "JPM\n",
      "PG\n",
      "V\n",
      "CVX\n",
      "HD\n",
      "PFE\n",
      "MA\n",
      "ABBV\n",
      "BAC\n",
      "KO\n",
      "LLY\n",
      "PEP\n",
      "MRK\n",
      "AVGO\n",
      "VZ\n",
      "TMO\n",
      "COST\n",
      "ABT\n",
      "CMCSA\n",
      "ADBE\n",
      "DIS\n",
      "CSCO\n",
      "MCD\n",
      "ACN\n",
      "WMT\n",
      "WFC\n",
      "INTC\n",
      "BMY\n",
      "PM\n",
      "LIN\n",
      "AMD\n",
      "TXN\n",
      "DHR\n",
      "CRM\n",
      "T\n",
      "QCOM\n",
      "COP\n",
      "NEE\n",
      "NKE\n",
      "AMGN\n",
      "RTX\n",
      "UNP\n",
      "MDT\n",
      "HON\n",
      "LOW\n",
      "UPS\n",
      "CVS\n",
      "SPGI\n",
      "ANTM\n",
      "IBM\n",
      "MS\n",
      "AMT\n",
      "INTU\n",
      "CAT\n",
      "ORCL\n",
      "GS\n",
      "LMT\n",
      "C\n",
      "SCHW\n",
      "AMAT\n",
      "AXP\n",
      "MO\n",
      "DE\n",
      "PYPL\n",
      "BLK\n",
      "ADP\n",
      "BKNG\n",
      "NOW\n",
      "PLD\n",
      "CB\n",
      "CI\n",
      "DUK\n",
      "MDLZ\n",
      "ADI\n",
      "SBUX\n",
      "NFLX\n",
      "GE\n",
      "MMM\n",
      "GILD\n",
      "CCI\n",
      "ISRG\n",
      "SO\n",
      "MMC\n",
      "SYK\n",
      "MU\n",
      "ZTS\n",
      "EOG\n",
      "TGT\n",
      "TMUS\n",
      "TJX\n",
      "REGN\n",
      "PNC\n",
      "BDX\n",
      "LRCX\n",
      "CME\n",
      "USB\n",
      "BA\n",
      "CSX\n",
      "NOC\n",
      "D\n",
      "VRTX\n",
      "PGR\n",
      "CL\n",
      "SLB\n",
      "SHW\n",
      "TFC\n",
      "FIS\n",
      "PXD\n",
      "EW\n",
      "ATVI\n",
      "OXY\n",
      "WM\n",
      "EQIX\n",
      "CHTR\n",
      "FISV\n",
      "AON\n",
      "ITW\n",
      "HUM\n",
      "MPC\n",
      "BSX\n",
      "NSC\n",
      "FCX\n",
      "EL\n"
     ]
    }
   ],
   "source": [
    "\n",
    "sector_groups = {sec : {'Cash_Asset_Ratio' : []} for sec in sp500.Sector.unique()}\n",
    "\n",
    "for (t, sec) in zip(sp500.Ticker, sp500.Sector):\n",
    "    \n",
    "    print(t)\n",
    "    sector_groups[sec]['Cash_Asset_Ratio'].append(get_cash_asset_ratio(yf.Ticker(t)))\n"
   ]
  },
  {
   "cell_type": "code",
   "execution_count": 56,
   "metadata": {},
   "outputs": [
    {
     "data": {
      "text/plain": [
       "{'Information Technology': {'Cash_Asset_Ratio': 0.2236543301771938},\n",
       " 'Consumer Discretionary': {'Cash_Asset_Ratio': 0.3344661493498011},\n",
       " 'Communication Services': {'Cash_Asset_Ratio': 0.13332538310178285},\n",
       " 'Financials': {'Cash_Asset_Ratio': 0.05801943363438334},\n",
       " 'Health Care': {'Cash_Asset_Ratio': None},\n",
       " 'Energy': {'Cash_Asset_Ratio': 0.02270164624520785},\n",
       " 'Consumer Staples': {'Cash_Asset_Ratio': 0.18613104005321424},\n",
       " 'Materials': {'Cash_Asset_Ratio': 0.09005827300017659},\n",
       " 'Utilities': {'Cash_Asset_Ratio': 0.000453070009474067},\n",
       " 'Industrials': {'Cash_Asset_Ratio': 0.033689341265859075},\n",
       " 'Real Estate': {'Cash_Asset_Ratio': 0.10194399727380997}}"
      ]
     },
     "execution_count": 56,
     "metadata": {},
     "output_type": "execute_result"
    }
   ],
   "source": [
    "\n",
    "\n",
    "sector_groups\n",
    "\n"
   ]
  }
 ],
 "metadata": {
  "interpreter": {
   "hash": "c7358e8e4aaec92e9a8c511ae545149d1e1464ce63ac675c18b70b466c751137"
  },
  "kernelspec": {
   "display_name": "Python 3.8.12 ('base')",
   "language": "python",
   "name": "python3"
  },
  "language_info": {
   "codemirror_mode": {
    "name": "ipython",
    "version": 3
   },
   "file_extension": ".py",
   "mimetype": "text/x-python",
   "name": "python",
   "nbconvert_exporter": "python",
   "pygments_lexer": "ipython3",
   "version": "3.8.12"
  },
  "orig_nbformat": 4
 },
 "nbformat": 4,
 "nbformat_minor": 2
}
