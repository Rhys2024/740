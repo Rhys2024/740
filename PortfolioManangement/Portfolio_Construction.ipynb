{
 "cells": [
  {
   "cell_type": "code",
   "execution_count": 1,
   "metadata": {},
   "outputs": [],
   "source": [
    "import pandas as pd\n",
    "import numpy as np\n",
    "import yfinance as yf\n",
    "import os\n",
    "import pandas_ta as ta\n",
    "import matplotlib.pyplot as plt\n",
    "from pypfopt.efficient_frontier import EfficientFrontier\n",
    "from pypfopt.expected_returns import mean_historical_return\n",
    "from pypfopt.risk_models import CovarianceShrinkage\n",
    "from pypfopt.hierarchical_portfolio import HRPOpt\n"
   ]
  },
  {
   "cell_type": "code",
   "execution_count": 16,
   "metadata": {},
   "outputs": [],
   "source": [
    "\n",
    "# 'AMCR',\n",
    "\n",
    "ticks = ['AAPL', 'MSFT', 'ACLS', 'UBER', 'AVNW', 'LUV']\n",
    "ticks.append('IMGN')\n",
    "ticks.append('ARCC')\n",
    "#ticks.append('GRPN')\n",
    "#ticks.append('AINV')\n",
    "#ticks.append('^GSPC')\n",
    "ticks.append('APO')\n",
    "ticks.append('YOU')\n",
    "#ticks.append('VOD')\n",
    "#ticks.append('STLA')\n",
    "#ticks.append('SG')\n",
    "#ticks.append('COIN')\n",
    "\n",
    "df = yf.download(ticks, start = '2010-01-01', progress = False)['Close']"
   ]
  },
  {
   "cell_type": "code",
   "execution_count": 3,
   "metadata": {},
   "outputs": [
    {
     "data": {
      "text/plain": [
       "<matplotlib.legend.Legend at 0x14090d760>"
      ]
     },
     "execution_count": 3,
     "metadata": {},
     "output_type": "execute_result"
    },
    {
     "data": {
      "image/png": "[encoded data removed]",
      "text/plain": [
       "<Figure size 432x288 with 1 Axes>"
      ]
     },
     "metadata": {
      "needs_background": "light"
     },
     "output_type": "display_data"
    }
   ],
   "source": [
    "cov = df.cov()\n",
    "\n",
    "#plt.imshow(cov)\n",
    "#sum(sum([cov[i][:-1] for i in cov if i != '^GSPC']))\n",
    "\n",
    "df.AAPL.plot()\n",
    "df.GRPN.plot()\n",
    "plt.legend()"
   ]
  },
  {
   "cell_type": "code",
   "execution_count": 17,
   "metadata": {},
   "outputs": [
    {
     "data": {
      "text/plain": [
       "OrderedDict([('AAPL', 0.14815939927224644),\n",
       "             ('ACLS', 0.030566277370408144),\n",
       "             ('APO', 0.10376929776968057),\n",
       "             ('ARCC', 0.20715156613214036),\n",
       "             ('AVNW', 0.06929079982106934),\n",
       "             ('IMGN', 0.03997074510469324),\n",
       "             ('LUV', 0.17309244754239678),\n",
       "             ('MSFT', 0.18337665320922739),\n",
       "             ('UBER', 0.026502906856837705),\n",
       "             ('YOU', 0.01811990692130005)])"
      ]
     },
     "execution_count": 17,
     "metadata": {},
     "output_type": "execute_result"
    }
   ],
   "source": [
    "\n",
    "HRP = HRPOpt(df.pct_change())\n",
    "\n",
    "HRP.optimize()\n"
   ]
  },
  {
   "cell_type": "code",
   "execution_count": 18,
   "metadata": {},
   "outputs": [
    {
     "name": "stdout",
     "output_type": "stream",
     "text": [
      "Expected annual return: 16.9%\n",
      "Annual volatility: 22.8%\n",
      "Sharpe Ratio: 0.65\n"
     ]
    },
    {
     "data": {
      "text/plain": [
       "(0.1688576700504377, 0.22793814175379976, 0.6530616986920147)"
      ]
     },
     "execution_count": 18,
     "metadata": {},
     "output_type": "execute_result"
    }
   ],
   "source": [
    "\n",
    "\n",
    "HRP.portfolio_performance(True)\n"
   ]
  },
  {
   "cell_type": "code",
   "execution_count": 8,
   "metadata": {},
   "outputs": [
    {
     "name": "stdout",
     "output_type": "stream",
     "text": [
      "Expected annual return: 13.8%\n",
      "Annual volatility: 21.3%\n",
      "Sharpe Ratio: 0.56\n"
     ]
    },
    {
     "data": {
      "text/plain": [
       "(0.1383756755868496, 0.21289845746326352, 0.556019414125045)"
      ]
     },
     "execution_count": 8,
     "metadata": {},
     "output_type": "execute_result"
    }
   ],
   "source": [
    "\n",
    "mu = mean_historical_return(df)\n",
    "S = CovarianceShrinkage(df).ledoit_wolf()\n",
    "\n",
    "ef = EfficientFrontier(mu, S)\n",
    "\n",
    "ef.add_constraint(lambda x : x >= 0.02)\n",
    "ef.add_constraint(lambda x : x <= 0.45)\n",
    "\n",
    "weights = ef.max_sharpe()\n",
    "\n",
    "ef.portfolio_performance(verbose=True)\n"
   ]
  }
 ],
 "metadata": {
  "interpreter": {
   "hash": "c7358e8e4aaec92e9a8c511ae545149d1e1464ce63ac675c18b70b466c751137"
  },
  "kernelspec": {
   "display_name": "Python 3.8.12 ('base')",
   "language": "python",
   "name": "python3"
  },
  "language_info": {
   "codemirror_mode": {
    "name": "ipython",
    "version": 3
   },
   "file_extension": ".py",
   "mimetype": "text/x-python",
   "name": "python",
   "nbconvert_exporter": "python",
   "pygments_lexer": "ipython3",
   "version": "3.9.10"
  },
  "orig_nbformat": 4
 },
 "nbformat": 4,
 "nbformat_minor": 2
}
