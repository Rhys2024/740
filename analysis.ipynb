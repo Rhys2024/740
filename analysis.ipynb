{
 "cells": [
  {
   "cell_type": "code",
   "execution_count": 10,
   "metadata": {},
   "outputs": [],
   "source": [
    "import pandas as pd\n",
    "import yfinance as yf\n",
    "from pypfopt.efficient_frontier import EfficientFrontier\n",
    "from pypfopt.expected_returns import mean_historical_return\n",
    "from pypfopt.risk_models import CovarianceShrinkage"
   ]
  },
  {
   "cell_type": "code",
   "execution_count": 46,
   "metadata": {},
   "outputs": [],
   "source": [
    "\n",
    "'''\n",
    "\n",
    "SP - 500 Consituents\n",
    "\n",
    "'''\n",
    "\n",
    "\n",
    "sp500 = pd.read_csv('sp500_holdings_june_2022.csv')[:505][['Ticker', 'Sector']]\n"
   ]
  },
  {
   "cell_type": "code",
   "execution_count": 11,
   "metadata": {},
   "outputs": [],
   "source": [
    "\n",
    "\n",
    "folio = yf.download([\"AAPL\", \"SG\", \"ACLS\", \"ACMR\"], '2010-01-04', progress = False)['Close']\n",
    "\n"
   ]
  },
  {
   "cell_type": "code",
   "execution_count": 12,
   "metadata": {},
   "outputs": [],
   "source": [
    "\n",
    "mu = mean_historical_return(folio)\n",
    "S = CovarianceShrinkage(folio).ledoit_wolf()\n",
    "\n"
   ]
  },
  {
   "cell_type": "code",
   "execution_count": 19,
   "metadata": {},
   "outputs": [
    {
     "name": "stdout",
     "output_type": "stream",
     "text": [
      "Expected annual return: 34.1%\n",
      "Annual volatility: 30.4%\n",
      "Sharpe Ratio: 1.06\n"
     ]
    },
    {
     "data": {
      "text/plain": [
       "(0.34114209173336457, 0.3037510264064844, 1.0572543425865075)"
      ]
     },
     "execution_count": 19,
     "metadata": {},
     "output_type": "execute_result"
    }
   ],
   "source": [
    "\n",
    "ef = EfficientFrontier(mu, S)\n",
    "\n",
    "ef.add_constraint(lambda x : x >= 0.05)\n",
    "ef.add_constraint(lambda x : x <= 0.45)\n",
    "\n",
    "weights = ef.max_sharpe()\n",
    "\n",
    "ef.portfolio_performance(verbose=True)"
   ]
  },
  {
   "cell_type": "code",
   "execution_count": 21,
   "metadata": {},
   "outputs": [
    {
     "data": {
      "text/plain": [
       "yfinance.Ticker object <AAPL>"
      ]
     },
     "execution_count": 21,
     "metadata": {},
     "output_type": "execute_result"
    }
   ],
   "source": [
    "\n",
    "\n",
    "aapl = yf.Ticker(\"AAPL\")\n"
   ]
  },
  {
   "cell_type": "code",
   "execution_count": 23,
   "metadata": {},
   "outputs": [],
   "source": [
    "\n",
    "ana = aapl.analysis\n",
    "\n"
   ]
  },
  {
   "cell_type": "code",
   "execution_count": 53,
   "metadata": {},
   "outputs": [],
   "source": [
    "\n",
    "def get_cash_asset_ratio(tick):\n",
    "\n",
    "    try:\n",
    "        return tick.balance_sheet.T['Cash'][0] / tick.balance_sheet.T['Total Assets'][0]\n",
    "    except:\n",
    "        return None\n",
    "\n",
    "\n",
    "\n"
   ]
  },
  {
   "cell_type": "code",
   "execution_count": 54,
   "metadata": {},
   "outputs": [
    {
     "data": {
      "text/plain": [
       "0.09954359234420317"
      ]
     },
     "execution_count": 54,
     "metadata": {},
     "output_type": "execute_result"
    }
   ],
   "source": [
    "\n",
    "\n",
    "get_cash_asset_ratio(aapl)\n",
    "\n"
   ]
  },
  {
   "cell_type": "code",
   "execution_count": 24,
   "metadata": {},
   "outputs": [
    {
     "data": {
      "text/plain": [
       "Index(['Max Age', 'End Date', 'Growth', 'Earnings Estimate Avg',\n",
       "       'Earnings Estimate Low', 'Earnings Estimate High',\n",
       "       'Earnings Estimate Year Ago Eps',\n",
       "       'Earnings Estimate Number Of Analysts', 'Earnings Estimate Growth',\n",
       "       'Revenue Estimate Avg', 'Revenue Estimate Low', 'Revenue Estimate High',\n",
       "       'Revenue Estimate Number Of Analysts',\n",
       "       'Revenue Estimate Year Ago Revenue', 'Revenue Estimate Growth',\n",
       "       'Eps Trend Current', 'Eps Trend 7Days Ago', 'Eps Trend 30Days Ago',\n",
       "       'Eps Trend 60Days Ago', 'Eps Trend 90Days Ago',\n",
       "       'Eps Revisions Up Last7Days', 'Eps Revisions Up Last30Days',\n",
       "       'Eps Revisions Down Last30Days', 'Eps Revisions Down Last90Days'],\n",
       "      dtype='object')"
      ]
     },
     "execution_count": 24,
     "metadata": {},
     "output_type": "execute_result"
    }
   ],
   "source": [
    "\n",
    "ana.columns"
   ]
  },
  {
   "cell_type": "code",
   "execution_count": 57,
   "metadata": {},
   "outputs": [
    {
     "name": "stdout",
     "output_type": "stream",
     "text": [
      "AAPL\n",
      "MSFT\n",
      "AMZN\n",
      "GOOGL\n",
      "GOOG\n",
      "TSLA\n",
      "BRK.B\n",
      "UNH\n",
      "JNJ\n",
      "NVDA\n",
      "FB\n",
      "XOM\n",
      "JPM\n",
      "PG\n",
      "V\n",
      "CVX\n",
      "HD\n",
      "PFE\n",
      "MA\n",
      "ABBV\n",
      "BAC\n",
      "KO\n",
      "LLY\n",
      "PEP\n",
      "MRK\n",
      "AVGO\n",
      "VZ\n",
      "TMO\n",
      "COST\n",
      "ABT\n",
      "CMCSA\n",
      "ADBE\n",
      "DIS\n",
      "CSCO\n",
      "MCD\n",
      "ACN\n",
      "WMT\n",
      "WFC\n",
      "INTC\n",
      "BMY\n",
      "PM\n",
      "LIN\n",
      "AMD\n",
      "TXN\n",
      "DHR\n",
      "CRM\n",
      "T\n",
      "QCOM\n",
      "COP\n",
      "NEE\n",
      "NKE\n",
      "AMGN\n",
      "RTX\n",
      "UNP\n",
      "MDT\n",
      "HON\n",
      "LOW\n",
      "UPS\n",
      "CVS\n",
      "SPGI\n",
      "ANTM\n",
      "IBM\n",
      "MS\n",
      "AMT\n",
      "INTU\n",
      "CAT\n",
      "ORCL\n",
      "GS\n",
      "LMT\n",
      "C\n",
      "SCHW\n",
      "AMAT\n",
      "AXP\n",
      "MO\n",
      "DE\n",
      "PYPL\n",
      "BLK\n",
      "ADP\n",
      "BKNG\n",
      "NOW\n",
      "PLD\n",
      "CB\n",
      "CI\n",
      "DUK\n",
      "MDLZ\n",
      "ADI\n",
      "SBUX\n",
      "NFLX\n",
      "GE\n",
      "MMM\n",
      "GILD\n",
      "CCI\n",
      "ISRG\n",
      "SO\n",
      "MMC\n",
      "SYK\n",
      "MU\n",
      "ZTS\n",
      "EOG\n",
      "TGT\n",
      "TMUS\n",
      "TJX\n",
      "REGN\n",
      "PNC\n",
      "BDX\n",
      "LRCX\n",
      "CME\n",
      "USB\n",
      "BA\n",
      "CSX\n",
      "NOC\n",
      "D\n",
      "VRTX\n",
      "PGR\n",
      "CL\n",
      "SLB\n",
      "SHW\n",
      "TFC\n",
      "FIS\n",
      "PXD\n",
      "EW\n",
      "ATVI\n",
      "OXY\n",
      "WM\n",
      "EQIX\n",
      "CHTR\n",
      "FISV\n",
      "AON\n",
      "ITW\n",
      "HUM\n",
      "MPC\n",
      "BSX\n",
      "NSC\n",
      "FCX\n",
      "EL\n"
     ]
    }
   ],
   "source": [
    "\n",
    "sector_groups = {sec : {'Cash_Asset_Ratio' : []} for sec in sp500.Sector.unique()}\n",
    "\n",
    "for (t, sec) in zip(sp500.Ticker, sp500.Sector):\n",
    "    \n",
    "    print(t)\n",
    "    sector_groups[sec]['Cash_Asset_Ratio'].append(get_cash_asset_ratio(yf.Ticker(t)))\n"
   ]
  },
  {
   "cell_type": "code",
   "execution_count": 56,
   "metadata": {},
   "outputs": [
    {
     "data": {
      "text/plain": [
       "{'Information Technology': {'Cash_Asset_Ratio': 0.2236543301771938},\n",
       " 'Consumer Discretionary': {'Cash_Asset_Ratio': 0.3344661493498011},\n",
       " 'Communication Services': {'Cash_Asset_Ratio': 0.13332538310178285},\n",
       " 'Financials': {'Cash_Asset_Ratio': 0.05801943363438334},\n",
       " 'Health Care': {'Cash_Asset_Ratio': None},\n",
       " 'Energy': {'Cash_Asset_Ratio': 0.02270164624520785},\n",
       " 'Consumer Staples': {'Cash_Asset_Ratio': 0.18613104005321424},\n",
       " 'Materials': {'Cash_Asset_Ratio': 0.09005827300017659},\n",
       " 'Utilities': {'Cash_Asset_Ratio': 0.000453070009474067},\n",
       " 'Industrials': {'Cash_Asset_Ratio': 0.033689341265859075},\n",
       " 'Real Estate': {'Cash_Asset_Ratio': 0.10194399727380997}}"
      ]
     },
     "execution_count": 56,
     "metadata": {},
     "output_type": "execute_result"
    }
   ],
   "source": [
    "\n",
    "\n",
    "sector_groups\n",
    "\n"
   ]
  }
 ],
 "metadata": {
  "interpreter": {
   "hash": "767d51c1340bd893661ea55ea3124f6de3c7a262a8b4abca0554b478b1e2ff90"
  },
  "kernelspec": {
   "display_name": "Python ('my-env')",
   "language": "python",
   "name": "python3"
  },
  "language_info": {
   "codemirror_mode": {
    "name": "ipython",
    "version": 3
   },
   "file_extension": ".py",
   "mimetype": "text/x-python",
   "name": "python",
   "nbconvert_exporter": "python",
   "pygments_lexer": "ipython3",
   "version": "3.9.10"
  },
  "orig_nbformat": 4
 },
 "nbformat": 4,
 "nbformat_minor": 2
}
