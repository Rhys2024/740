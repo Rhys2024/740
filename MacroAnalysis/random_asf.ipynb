{
 "cells": [
  {
   "cell_type": "code",
   "execution_count": 33,
   "metadata": {},
   "outputs": [],
   "source": [
    "from sklearn.ensemble import RandomForestClassifier\n",
    "from sklearn.metrics import accuracy_score\n",
    "import pandas as pd\n",
    "import yfinance as yf\n",
    "import fredapi as fa\n",
    "from datetime import date, timedelta\n",
    "from Modules.Exposure_Report import Exposure\n",
    "import numpy as np\n",
    "import matplotlib.pyplot as plt\n",
    "import Modules.Useful_Functions as u\n",
    "from statsmodels.tsa.stattools import adfuller\n",
    "from scipy.stats.mstats import normaltest\n",
    "import Modules.DataHub as da\n",
    "from FileFinder import FileFinder as ff\n",
    "from itertools import combinations\n",
    "\n",
    "fred = fa.Fred('4fb0ce271d0f66f4b5b3904b4aaf1dd0')\n",
    "\n",
    "\n",
    "features = da.available_macro_data\n",
    "\n",
    "features"
   ]
  },
  {
   "cell_type": "code",
   "execution_count": 36,
   "metadata": {},
   "outputs": [],
   "source": [
    "\n",
    "\n",
    "feature_combinations = list(combinations(features, 2))\n"
   ]
  },
  {
   "cell_type": "code",
   "execution_count": null,
   "metadata": {},
   "outputs": [],
   "source": [
    "\n",
    "\n",
    "\n",
    "\n"
   ]
  },
  {
   "cell_type": "code",
   "execution_count": 57,
   "metadata": {},
   "outputs": [
    {
     "data": {
      "image/png": "[encoded data removed]",
      "text/plain": [
       "<Figure size 432x288 with 1 Axes>"
      ]
     },
     "metadata": {
      "needs_background": "light"
     },
     "output_type": "display_data"
    }
   ],
   "source": [
    "\n",
    "\n",
    "features = ['nominal_yield', 'economic_uncertainty']\n",
    "\n",
    "sector_df = da.get_Dataset('sec', features, \"default\")\n",
    "\n",
    "#sector_df['feature_spread'] = sector_df[features[0]] - sector_df[features[1]]\n",
    "#features.append('feature_spread')\n",
    "sector_df[features].plot()\n",
    "\n",
    "# , \"sp_500\"\n",
    "exposure = Exposure(sector_df, 252, 163, features, \"sp_500\")\n",
    "\n"
   ]
  },
  {
   "cell_type": "code",
   "execution_count": 77,
   "metadata": {},
   "outputs": [
    {
     "data": {
      "text/html": [
       "<div>\n",
       "<style scoped>\n",
       "    .dataframe tbody tr th:only-of-type {\n",
       "        vertical-align: middle;\n",
       "    }\n",
       "\n",
       "    .dataframe tbody tr th {\n",
       "        vertical-align: top;\n",
       "    }\n",
       "\n",
       "    .dataframe thead th {\n",
       "        text-align: right;\n",
       "    }\n",
       "</style>\n",
       "<table border=\"1\" class=\"dataframe\">\n",
       "  <thead>\n",
       "    <tr style=\"text-align: right;\">\n",
       "      <th></th>\n",
       "      <th>Materials</th>\n",
       "      <th>Industrials</th>\n",
       "      <th>Consumer Discretionary</th>\n",
       "      <th>Consumer Staples</th>\n",
       "      <th>Health Care</th>\n",
       "      <th>Financials</th>\n",
       "      <th>Technology</th>\n",
       "      <th>Telecomm</th>\n",
       "      <th>Utilities</th>\n",
       "      <th>Real Estate</th>\n",
       "      <th>Energy</th>\n",
       "      <th>nominal_yield_scores</th>\n",
       "      <th>economic_uncertainty_scores</th>\n",
       "      <th>difference</th>\n",
       "    </tr>\n",
       "  </thead>\n",
       "  <tbody>\n",
       "    <tr>\n",
       "      <th>Materials</th>\n",
       "      <td>1.000000</td>\n",
       "      <td>0.073961</td>\n",
       "      <td>-0.593538</td>\n",
       "      <td>-0.006085</td>\n",
       "      <td>-0.579923</td>\n",
       "      <td>-0.154468</td>\n",
       "      <td>0.151783</td>\n",
       "      <td>0.366570</td>\n",
       "      <td>0.386196</td>\n",
       "      <td>0.430916</td>\n",
       "      <td>0.272110</td>\n",
       "      <td>0.489213</td>\n",
       "      <td>-0.208162</td>\n",
       "      <td>0.585963</td>\n",
       "    </tr>\n",
       "    <tr>\n",
       "      <th>Industrials</th>\n",
       "      <td>0.073961</td>\n",
       "      <td>1.000000</td>\n",
       "      <td>-0.352479</td>\n",
       "      <td>0.766214</td>\n",
       "      <td>0.507969</td>\n",
       "      <td>0.871998</td>\n",
       "      <td>-0.877867</td>\n",
       "      <td>-0.652722</td>\n",
       "      <td>0.572512</td>\n",
       "      <td>0.627375</td>\n",
       "      <td>0.900309</td>\n",
       "      <td>-0.467101</td>\n",
       "      <td>-0.459565</td>\n",
       "      <td>-0.244320</td>\n",
       "    </tr>\n",
       "    <tr>\n",
       "      <th>Consumer Discretionary</th>\n",
       "      <td>-0.593538</td>\n",
       "      <td>-0.352479</td>\n",
       "      <td>1.000000</td>\n",
       "      <td>-0.138360</td>\n",
       "      <td>0.464223</td>\n",
       "      <td>-0.269513</td>\n",
       "      <td>0.027051</td>\n",
       "      <td>0.036392</td>\n",
       "      <td>-0.746387</td>\n",
       "      <td>-0.557784</td>\n",
       "      <td>-0.579033</td>\n",
       "      <td>0.032062</td>\n",
       "      <td>0.454122</td>\n",
       "      <td>-0.185531</td>\n",
       "    </tr>\n",
       "    <tr>\n",
       "      <th>Consumer Staples</th>\n",
       "      <td>-0.006085</td>\n",
       "      <td>0.766214</td>\n",
       "      <td>-0.138360</td>\n",
       "      <td>1.000000</td>\n",
       "      <td>0.689375</td>\n",
       "      <td>0.533754</td>\n",
       "      <td>-0.838032</td>\n",
       "      <td>-0.352803</td>\n",
       "      <td>0.508306</td>\n",
       "      <td>0.773087</td>\n",
       "      <td>0.609463</td>\n",
       "      <td>-0.110177</td>\n",
       "      <td>-0.248472</td>\n",
       "      <td>0.009428</td>\n",
       "    </tr>\n",
       "    <tr>\n",
       "      <th>Health Care</th>\n",
       "      <td>-0.579923</td>\n",
       "      <td>0.507969</td>\n",
       "      <td>0.464223</td>\n",
       "      <td>0.689375</td>\n",
       "      <td>1.000000</td>\n",
       "      <td>0.520852</td>\n",
       "      <td>-0.787155</td>\n",
       "      <td>-0.423760</td>\n",
       "      <td>-0.141179</td>\n",
       "      <td>0.259651</td>\n",
       "      <td>0.194495</td>\n",
       "      <td>-0.301930</td>\n",
       "      <td>0.048477</td>\n",
       "      <td>-0.323345</td>\n",
       "    </tr>\n",
       "    <tr>\n",
       "      <th>Financials</th>\n",
       "      <td>-0.154468</td>\n",
       "      <td>0.871998</td>\n",
       "      <td>-0.269513</td>\n",
       "      <td>0.533754</td>\n",
       "      <td>0.520852</td>\n",
       "      <td>1.000000</td>\n",
       "      <td>-0.810721</td>\n",
       "      <td>-0.687437</td>\n",
       "      <td>0.316099</td>\n",
       "      <td>0.449656</td>\n",
       "      <td>0.755636</td>\n",
       "      <td>-0.570953</td>\n",
       "      <td>-0.428153</td>\n",
       "      <td>-0.362593</td>\n",
       "    </tr>\n",
       "    <tr>\n",
       "      <th>Technology</th>\n",
       "      <td>0.151783</td>\n",
       "      <td>-0.877867</td>\n",
       "      <td>0.027051</td>\n",
       "      <td>-0.838032</td>\n",
       "      <td>-0.787155</td>\n",
       "      <td>-0.810721</td>\n",
       "      <td>1.000000</td>\n",
       "      <td>0.459440</td>\n",
       "      <td>-0.231113</td>\n",
       "      <td>-0.622162</td>\n",
       "      <td>-0.699474</td>\n",
       "      <td>0.324028</td>\n",
       "      <td>0.262757</td>\n",
       "      <td>0.196315</td>\n",
       "    </tr>\n",
       "    <tr>\n",
       "      <th>Telecomm</th>\n",
       "      <td>0.366570</td>\n",
       "      <td>-0.652722</td>\n",
       "      <td>0.036392</td>\n",
       "      <td>-0.352803</td>\n",
       "      <td>-0.423760</td>\n",
       "      <td>-0.687437</td>\n",
       "      <td>0.459440</td>\n",
       "      <td>1.000000</td>\n",
       "      <td>-0.416711</td>\n",
       "      <td>-0.001856</td>\n",
       "      <td>-0.547961</td>\n",
       "      <td>0.791343</td>\n",
       "      <td>0.306372</td>\n",
       "      <td>0.639975</td>\n",
       "    </tr>\n",
       "    <tr>\n",
       "      <th>Utilities</th>\n",
       "      <td>0.386196</td>\n",
       "      <td>0.572512</td>\n",
       "      <td>-0.746387</td>\n",
       "      <td>0.508306</td>\n",
       "      <td>-0.141179</td>\n",
       "      <td>0.316099</td>\n",
       "      <td>-0.231113</td>\n",
       "      <td>-0.416711</td>\n",
       "      <td>1.000000</td>\n",
       "      <td>0.584682</td>\n",
       "      <td>0.683502</td>\n",
       "      <td>-0.199516</td>\n",
       "      <td>-0.523716</td>\n",
       "      <td>0.052388</td>\n",
       "    </tr>\n",
       "    <tr>\n",
       "      <th>Real Estate</th>\n",
       "      <td>0.430916</td>\n",
       "      <td>0.627375</td>\n",
       "      <td>-0.557784</td>\n",
       "      <td>0.773087</td>\n",
       "      <td>0.259651</td>\n",
       "      <td>0.449656</td>\n",
       "      <td>-0.622162</td>\n",
       "      <td>-0.001856</td>\n",
       "      <td>0.584682</td>\n",
       "      <td>1.000000</td>\n",
       "      <td>0.629152</td>\n",
       "      <td>0.216985</td>\n",
       "      <td>-0.318042</td>\n",
       "      <td>0.367953</td>\n",
       "    </tr>\n",
       "    <tr>\n",
       "      <th>Energy</th>\n",
       "      <td>0.272110</td>\n",
       "      <td>0.900309</td>\n",
       "      <td>-0.579033</td>\n",
       "      <td>0.609463</td>\n",
       "      <td>0.194495</td>\n",
       "      <td>0.755636</td>\n",
       "      <td>-0.699474</td>\n",
       "      <td>-0.547961</td>\n",
       "      <td>0.683502</td>\n",
       "      <td>0.629152</td>\n",
       "      <td>1.000000</td>\n",
       "      <td>-0.370665</td>\n",
       "      <td>-0.489040</td>\n",
       "      <td>-0.134346</td>\n",
       "    </tr>\n",
       "    <tr>\n",
       "      <th>nominal_yield_scores</th>\n",
       "      <td>0.489213</td>\n",
       "      <td>-0.467101</td>\n",
       "      <td>0.032062</td>\n",
       "      <td>-0.110177</td>\n",
       "      <td>-0.301930</td>\n",
       "      <td>-0.570953</td>\n",
       "      <td>0.324028</td>\n",
       "      <td>0.791343</td>\n",
       "      <td>-0.199516</td>\n",
       "      <td>0.216985</td>\n",
       "      <td>-0.370665</td>\n",
       "      <td>1.000000</td>\n",
       "      <td>0.228357</td>\n",
       "      <td>0.884742</td>\n",
       "    </tr>\n",
       "    <tr>\n",
       "      <th>economic_uncertainty_scores</th>\n",
       "      <td>-0.208162</td>\n",
       "      <td>-0.459565</td>\n",
       "      <td>0.454122</td>\n",
       "      <td>-0.248472</td>\n",
       "      <td>0.048477</td>\n",
       "      <td>-0.428153</td>\n",
       "      <td>0.262757</td>\n",
       "      <td>0.306372</td>\n",
       "      <td>-0.523716</td>\n",
       "      <td>-0.318042</td>\n",
       "      <td>-0.489040</td>\n",
       "      <td>0.228357</td>\n",
       "      <td>1.000000</td>\n",
       "      <td>-0.251729</td>\n",
       "    </tr>\n",
       "    <tr>\n",
       "      <th>difference</th>\n",
       "      <td>0.585963</td>\n",
       "      <td>-0.244320</td>\n",
       "      <td>-0.185531</td>\n",
       "      <td>0.009428</td>\n",
       "      <td>-0.323345</td>\n",
       "      <td>-0.362593</td>\n",
       "      <td>0.196315</td>\n",
       "      <td>0.639975</td>\n",
       "      <td>0.052388</td>\n",
       "      <td>0.367953</td>\n",
       "      <td>-0.134346</td>\n",
       "      <td>0.884742</td>\n",
       "      <td>-0.251729</td>\n",
       "      <td>1.000000</td>\n",
       "    </tr>\n",
       "  </tbody>\n",
       "</table>\n",
       "</div>"
      ],
      "text/plain": [
       "                             Materials  Industrials  Consumer Discretionary  \\\n",
       "Materials                     1.000000     0.073961               -0.593538   \n",
       "Industrials                   0.073961     1.000000               -0.352479   \n",
       "Consumer Discretionary       -0.593538    -0.352479                1.000000   \n",
       "Consumer Staples             -0.006085     0.766214               -0.138360   \n",
       "Health Care                  -0.579923     0.507969                0.464223   \n",
       "Financials                   -0.154468     0.871998               -0.269513   \n",
       "Technology                    0.151783    -0.877867                0.027051   \n",
       "Telecomm                      0.366570    -0.652722                0.036392   \n",
       "Utilities                     0.386196     0.572512               -0.746387   \n",
       "Real Estate                   0.430916     0.627375               -0.557784   \n",
       "Energy                        0.272110     0.900309               -0.579033   \n",
       "nominal_yield_scores          0.489213    -0.467101                0.032062   \n",
       "economic_uncertainty_scores  -0.208162    -0.459565                0.454122   \n",
       "difference                    0.585963    -0.244320               -0.185531   \n",
       "\n",
       "                             Consumer Staples  Health Care  Financials  \\\n",
       "Materials                           -0.006085    -0.579923   -0.154468   \n",
       "Industrials                          0.766214     0.507969    0.871998   \n",
       "Consumer Discretionary              -0.138360     0.464223   -0.269513   \n",
       "Consumer Staples                     1.000000     0.689375    0.533754   \n",
       "Health Care                          0.689375     1.000000    0.520852   \n",
       "Financials                           0.533754     0.520852    1.000000   \n",
       "Technology                          -0.838032    -0.787155   -0.810721   \n",
       "Telecomm                            -0.352803    -0.423760   -0.687437   \n",
       "Utilities                            0.508306    -0.141179    0.316099   \n",
       "Real Estate                          0.773087     0.259651    0.449656   \n",
       "Energy                               0.609463     0.194495    0.755636   \n",
       "nominal_yield_scores                -0.110177    -0.301930   -0.570953   \n",
       "economic_uncertainty_scores         -0.248472     0.048477   -0.428153   \n",
       "difference                           0.009428    -0.323345   -0.362593   \n",
       "\n",
       "                             Technology  Telecomm  Utilities  Real Estate  \\\n",
       "Materials                      0.151783  0.366570   0.386196     0.430916   \n",
       "Industrials                   -0.877867 -0.652722   0.572512     0.627375   \n",
       "Consumer Discretionary         0.027051  0.036392  -0.746387    -0.557784   \n",
       "Consumer Staples              -0.838032 -0.352803   0.508306     0.773087   \n",
       "Health Care                   -0.787155 -0.423760  -0.141179     0.259651   \n",
       "Financials                    -0.810721 -0.687437   0.316099     0.449656   \n",
       "Technology                     1.000000  0.459440  -0.231113    -0.622162   \n",
       "Telecomm                       0.459440  1.000000  -0.416711    -0.001856   \n",
       "Utilities                     -0.231113 -0.416711   1.000000     0.584682   \n",
       "Real Estate                   -0.622162 -0.001856   0.584682     1.000000   \n",
       "Energy                        -0.699474 -0.547961   0.683502     0.629152   \n",
       "nominal_yield_scores           0.324028  0.791343  -0.199516     0.216985   \n",
       "economic_uncertainty_scores    0.262757  0.306372  -0.523716    -0.318042   \n",
       "difference                     0.196315  0.639975   0.052388     0.367953   \n",
       "\n",
       "                               Energy  nominal_yield_scores  \\\n",
       "Materials                    0.272110              0.489213   \n",
       "Industrials                  0.900309             -0.467101   \n",
       "Consumer Discretionary      -0.579033              0.032062   \n",
       "Consumer Staples             0.609463             -0.110177   \n",
       "Health Care                  0.194495             -0.301930   \n",
       "Financials                   0.755636             -0.570953   \n",
       "Technology                  -0.699474              0.324028   \n",
       "Telecomm                    -0.547961              0.791343   \n",
       "Utilities                    0.683502             -0.199516   \n",
       "Real Estate                  0.629152              0.216985   \n",
       "Energy                       1.000000             -0.370665   \n",
       "nominal_yield_scores        -0.370665              1.000000   \n",
       "economic_uncertainty_scores -0.489040              0.228357   \n",
       "difference                  -0.134346              0.884742   \n",
       "\n",
       "                             economic_uncertainty_scores  difference  \n",
       "Materials                                      -0.208162    0.585963  \n",
       "Industrials                                    -0.459565   -0.244320  \n",
       "Consumer Discretionary                          0.454122   -0.185531  \n",
       "Consumer Staples                               -0.248472    0.009428  \n",
       "Health Care                                     0.048477   -0.323345  \n",
       "Financials                                     -0.428153   -0.362593  \n",
       "Technology                                      0.262757    0.196315  \n",
       "Telecomm                                        0.306372    0.639975  \n",
       "Utilities                                      -0.523716    0.052388  \n",
       "Real Estate                                    -0.318042    0.367953  \n",
       "Energy                                         -0.489040   -0.134346  \n",
       "nominal_yield_scores                            0.228357    0.884742  \n",
       "economic_uncertainty_scores                     1.000000   -0.251729  \n",
       "difference                                     -0.251729    1.000000  "
      ]
     },
     "execution_count": 77,
     "metadata": {},
     "output_type": "execute_result"
    }
   ],
   "source": [
    "\n",
    "\n",
    "bruh = exposure.forward_returns_monthly.copy()\n",
    "bruh['difference'] = bruh[f'{features[0]}_scores'] - bruh[f'{features[1]}_scores']\n",
    "#bruh.plot.scatter('difference', 'Consumer Discretionary')\n",
    "\n",
    "bruh.corr()\n",
    "\n",
    "\n",
    "#bruh.plot.scatter('inflation_scores', 'Telecomm')"
   ]
  },
  {
   "cell_type": "code",
   "execution_count": 72,
   "metadata": {},
   "outputs": [
    {
     "data": {
      "text/html": [
       "<div>\n",
       "<style scoped>\n",
       "    .dataframe tbody tr th:only-of-type {\n",
       "        vertical-align: middle;\n",
       "    }\n",
       "\n",
       "    .dataframe tbody tr th {\n",
       "        vertical-align: top;\n",
       "    }\n",
       "\n",
       "    .dataframe thead th {\n",
       "        text-align: right;\n",
       "    }\n",
       "</style>\n",
       "<table border=\"1\" class=\"dataframe\">\n",
       "  <thead>\n",
       "    <tr style=\"text-align: right;\">\n",
       "      <th></th>\n",
       "      <th>Materials</th>\n",
       "      <th>Industrials</th>\n",
       "      <th>Consumer Discretionary</th>\n",
       "      <th>Consumer Staples</th>\n",
       "      <th>Health Care</th>\n",
       "      <th>Financials</th>\n",
       "      <th>Technology</th>\n",
       "      <th>Telecomm</th>\n",
       "      <th>Utilities</th>\n",
       "      <th>Real Estate</th>\n",
       "      <th>Energy</th>\n",
       "      <th>distance</th>\n",
       "      <th>difference</th>\n",
       "      <th>meann</th>\n",
       "    </tr>\n",
       "  </thead>\n",
       "  <tbody>\n",
       "    <tr>\n",
       "      <th>Materials</th>\n",
       "      <td>1.000000</td>\n",
       "      <td>-0.086138</td>\n",
       "      <td>-0.382517</td>\n",
       "      <td>-0.060248</td>\n",
       "      <td>-0.559979</td>\n",
       "      <td>-0.048183</td>\n",
       "      <td>-0.121497</td>\n",
       "      <td>0.780333</td>\n",
       "      <td>-0.306567</td>\n",
       "      <td>0.654635</td>\n",
       "      <td>0.162622</td>\n",
       "      <td>0.701048</td>\n",
       "      <td>0.891113</td>\n",
       "      <td>0.375096</td>\n",
       "    </tr>\n",
       "    <tr>\n",
       "      <th>Industrials</th>\n",
       "      <td>-0.086138</td>\n",
       "      <td>1.000000</td>\n",
       "      <td>-0.682626</td>\n",
       "      <td>0.817637</td>\n",
       "      <td>0.647233</td>\n",
       "      <td>0.932868</td>\n",
       "      <td>-0.932967</td>\n",
       "      <td>-0.543981</td>\n",
       "      <td>0.798651</td>\n",
       "      <td>0.564254</td>\n",
       "      <td>0.961873</td>\n",
       "      <td>-0.137176</td>\n",
       "      <td>-0.269956</td>\n",
       "      <td>-0.792773</td>\n",
       "    </tr>\n",
       "    <tr>\n",
       "      <th>Consumer Discretionary</th>\n",
       "      <td>-0.382517</td>\n",
       "      <td>-0.682626</td>\n",
       "      <td>1.000000</td>\n",
       "      <td>-0.384696</td>\n",
       "      <td>0.058444</td>\n",
       "      <td>-0.757546</td>\n",
       "      <td>0.661611</td>\n",
       "      <td>0.022169</td>\n",
       "      <td>-0.486080</td>\n",
       "      <td>-0.715920</td>\n",
       "      <td>-0.802825</td>\n",
       "      <td>-0.337598</td>\n",
       "      <td>-0.127595</td>\n",
       "      <td>0.545249</td>\n",
       "    </tr>\n",
       "    <tr>\n",
       "      <th>Consumer Staples</th>\n",
       "      <td>-0.060248</td>\n",
       "      <td>0.817637</td>\n",
       "      <td>-0.384696</td>\n",
       "      <td>1.000000</td>\n",
       "      <td>0.757156</td>\n",
       "      <td>0.598635</td>\n",
       "      <td>-0.834278</td>\n",
       "      <td>-0.346033</td>\n",
       "      <td>0.791898</td>\n",
       "      <td>0.633988</td>\n",
       "      <td>0.734433</td>\n",
       "      <td>-0.193975</td>\n",
       "      <td>-0.021102</td>\n",
       "      <td>-0.385839</td>\n",
       "    </tr>\n",
       "    <tr>\n",
       "      <th>Health Care</th>\n",
       "      <td>-0.559979</td>\n",
       "      <td>0.647233</td>\n",
       "      <td>0.058444</td>\n",
       "      <td>0.757156</td>\n",
       "      <td>1.000000</td>\n",
       "      <td>0.499631</td>\n",
       "      <td>-0.613185</td>\n",
       "      <td>-0.669573</td>\n",
       "      <td>0.574365</td>\n",
       "      <td>0.098195</td>\n",
       "      <td>0.448717</td>\n",
       "      <td>-0.425891</td>\n",
       "      <td>-0.502091</td>\n",
       "      <td>-0.449669</td>\n",
       "    </tr>\n",
       "    <tr>\n",
       "      <th>Financials</th>\n",
       "      <td>-0.048183</td>\n",
       "      <td>0.932868</td>\n",
       "      <td>-0.757546</td>\n",
       "      <td>0.598635</td>\n",
       "      <td>0.499631</td>\n",
       "      <td>1.000000</td>\n",
       "      <td>-0.886362</td>\n",
       "      <td>-0.484065</td>\n",
       "      <td>0.608125</td>\n",
       "      <td>0.522494</td>\n",
       "      <td>0.925178</td>\n",
       "      <td>0.018449</td>\n",
       "      <td>-0.291767</td>\n",
       "      <td>-0.820738</td>\n",
       "    </tr>\n",
       "    <tr>\n",
       "      <th>Technology</th>\n",
       "      <td>-0.121497</td>\n",
       "      <td>-0.932967</td>\n",
       "      <td>0.661611</td>\n",
       "      <td>-0.834278</td>\n",
       "      <td>-0.613185</td>\n",
       "      <td>-0.886362</td>\n",
       "      <td>1.000000</td>\n",
       "      <td>0.265054</td>\n",
       "      <td>-0.602026</td>\n",
       "      <td>-0.745080</td>\n",
       "      <td>-0.931003</td>\n",
       "      <td>-0.052232</td>\n",
       "      <td>0.032738</td>\n",
       "      <td>0.570827</td>\n",
       "    </tr>\n",
       "    <tr>\n",
       "      <th>Telecomm</th>\n",
       "      <td>0.780333</td>\n",
       "      <td>-0.543981</td>\n",
       "      <td>0.022169</td>\n",
       "      <td>-0.346033</td>\n",
       "      <td>-0.669573</td>\n",
       "      <td>-0.484065</td>\n",
       "      <td>0.265054</td>\n",
       "      <td>1.000000</td>\n",
       "      <td>-0.661369</td>\n",
       "      <td>0.342036</td>\n",
       "      <td>-0.357545</td>\n",
       "      <td>0.611650</td>\n",
       "      <td>0.846739</td>\n",
       "      <td>0.787719</td>\n",
       "    </tr>\n",
       "    <tr>\n",
       "      <th>Utilities</th>\n",
       "      <td>-0.306567</td>\n",
       "      <td>0.798651</td>\n",
       "      <td>-0.486080</td>\n",
       "      <td>0.791898</td>\n",
       "      <td>0.574365</td>\n",
       "      <td>0.608125</td>\n",
       "      <td>-0.602026</td>\n",
       "      <td>-0.661369</td>\n",
       "      <td>1.000000</td>\n",
       "      <td>0.328591</td>\n",
       "      <td>0.694759</td>\n",
       "      <td>-0.407796</td>\n",
       "      <td>-0.318842</td>\n",
       "      <td>-0.675802</td>\n",
       "    </tr>\n",
       "    <tr>\n",
       "      <th>Real Estate</th>\n",
       "      <td>0.654635</td>\n",
       "      <td>0.564254</td>\n",
       "      <td>-0.715920</td>\n",
       "      <td>0.633988</td>\n",
       "      <td>0.098195</td>\n",
       "      <td>0.522494</td>\n",
       "      <td>-0.745080</td>\n",
       "      <td>0.342036</td>\n",
       "      <td>0.328591</td>\n",
       "      <td>1.000000</td>\n",
       "      <td>0.683717</td>\n",
       "      <td>0.482165</td>\n",
       "      <td>0.594496</td>\n",
       "      <td>-0.055502</td>\n",
       "    </tr>\n",
       "    <tr>\n",
       "      <th>Energy</th>\n",
       "      <td>0.162622</td>\n",
       "      <td>0.961873</td>\n",
       "      <td>-0.802825</td>\n",
       "      <td>0.734433</td>\n",
       "      <td>0.448717</td>\n",
       "      <td>0.925178</td>\n",
       "      <td>-0.931003</td>\n",
       "      <td>-0.357545</td>\n",
       "      <td>0.694759</td>\n",
       "      <td>0.683717</td>\n",
       "      <td>1.000000</td>\n",
       "      <td>0.034738</td>\n",
       "      <td>-0.086260</td>\n",
       "      <td>-0.738378</td>\n",
       "    </tr>\n",
       "    <tr>\n",
       "      <th>distance</th>\n",
       "      <td>0.701048</td>\n",
       "      <td>-0.137176</td>\n",
       "      <td>-0.337598</td>\n",
       "      <td>-0.193975</td>\n",
       "      <td>-0.425891</td>\n",
       "      <td>0.018449</td>\n",
       "      <td>-0.052232</td>\n",
       "      <td>0.611650</td>\n",
       "      <td>-0.407796</td>\n",
       "      <td>0.482165</td>\n",
       "      <td>0.034738</td>\n",
       "      <td>1.000000</td>\n",
       "      <td>0.593203</td>\n",
       "      <td>0.345041</td>\n",
       "    </tr>\n",
       "    <tr>\n",
       "      <th>difference</th>\n",
       "      <td>0.891113</td>\n",
       "      <td>-0.269956</td>\n",
       "      <td>-0.127595</td>\n",
       "      <td>-0.021102</td>\n",
       "      <td>-0.502091</td>\n",
       "      <td>-0.291767</td>\n",
       "      <td>0.032738</td>\n",
       "      <td>0.846739</td>\n",
       "      <td>-0.318842</td>\n",
       "      <td>0.594496</td>\n",
       "      <td>-0.086260</td>\n",
       "      <td>0.593203</td>\n",
       "      <td>1.000000</td>\n",
       "      <td>0.644235</td>\n",
       "    </tr>\n",
       "    <tr>\n",
       "      <th>meann</th>\n",
       "      <td>0.375096</td>\n",
       "      <td>-0.792773</td>\n",
       "      <td>0.545249</td>\n",
       "      <td>-0.385839</td>\n",
       "      <td>-0.449669</td>\n",
       "      <td>-0.820738</td>\n",
       "      <td>0.570827</td>\n",
       "      <td>0.787719</td>\n",
       "      <td>-0.675802</td>\n",
       "      <td>-0.055502</td>\n",
       "      <td>-0.738378</td>\n",
       "      <td>0.345041</td>\n",
       "      <td>0.644235</td>\n",
       "      <td>1.000000</td>\n",
       "    </tr>\n",
       "  </tbody>\n",
       "</table>\n",
       "</div>"
      ],
      "text/plain": [
       "                        Materials  Industrials  Consumer Discretionary  \\\n",
       "Materials                1.000000    -0.086138               -0.382517   \n",
       "Industrials             -0.086138     1.000000               -0.682626   \n",
       "Consumer Discretionary  -0.382517    -0.682626                1.000000   \n",
       "Consumer Staples        -0.060248     0.817637               -0.384696   \n",
       "Health Care             -0.559979     0.647233                0.058444   \n",
       "Financials              -0.048183     0.932868               -0.757546   \n",
       "Technology              -0.121497    -0.932967                0.661611   \n",
       "Telecomm                 0.780333    -0.543981                0.022169   \n",
       "Utilities               -0.306567     0.798651               -0.486080   \n",
       "Real Estate              0.654635     0.564254               -0.715920   \n",
       "Energy                   0.162622     0.961873               -0.802825   \n",
       "distance                 0.701048    -0.137176               -0.337598   \n",
       "difference               0.891113    -0.269956               -0.127595   \n",
       "meann                    0.375096    -0.792773                0.545249   \n",
       "\n",
       "                        Consumer Staples  Health Care  Financials  Technology  \\\n",
       "Materials                      -0.060248    -0.559979   -0.048183   -0.121497   \n",
       "Industrials                     0.817637     0.647233    0.932868   -0.932967   \n",
       "Consumer Discretionary         -0.384696     0.058444   -0.757546    0.661611   \n",
       "Consumer Staples                1.000000     0.757156    0.598635   -0.834278   \n",
       "Health Care                     0.757156     1.000000    0.499631   -0.613185   \n",
       "Financials                      0.598635     0.499631    1.000000   -0.886362   \n",
       "Technology                     -0.834278    -0.613185   -0.886362    1.000000   \n",
       "Telecomm                       -0.346033    -0.669573   -0.484065    0.265054   \n",
       "Utilities                       0.791898     0.574365    0.608125   -0.602026   \n",
       "Real Estate                     0.633988     0.098195    0.522494   -0.745080   \n",
       "Energy                          0.734433     0.448717    0.925178   -0.931003   \n",
       "distance                       -0.193975    -0.425891    0.018449   -0.052232   \n",
       "difference                     -0.021102    -0.502091   -0.291767    0.032738   \n",
       "meann                          -0.385839    -0.449669   -0.820738    0.570827   \n",
       "\n",
       "                        Telecomm  Utilities  Real Estate    Energy  distance  \\\n",
       "Materials               0.780333  -0.306567     0.654635  0.162622  0.701048   \n",
       "Industrials            -0.543981   0.798651     0.564254  0.961873 -0.137176   \n",
       "Consumer Discretionary  0.022169  -0.486080    -0.715920 -0.802825 -0.337598   \n",
       "Consumer Staples       -0.346033   0.791898     0.633988  0.734433 -0.193975   \n",
       "Health Care            -0.669573   0.574365     0.098195  0.448717 -0.425891   \n",
       "Financials             -0.484065   0.608125     0.522494  0.925178  0.018449   \n",
       "Technology              0.265054  -0.602026    -0.745080 -0.931003 -0.052232   \n",
       "Telecomm                1.000000  -0.661369     0.342036 -0.357545  0.611650   \n",
       "Utilities              -0.661369   1.000000     0.328591  0.694759 -0.407796   \n",
       "Real Estate             0.342036   0.328591     1.000000  0.683717  0.482165   \n",
       "Energy                 -0.357545   0.694759     0.683717  1.000000  0.034738   \n",
       "distance                0.611650  -0.407796     0.482165  0.034738  1.000000   \n",
       "difference              0.846739  -0.318842     0.594496 -0.086260  0.593203   \n",
       "meann                   0.787719  -0.675802    -0.055502 -0.738378  0.345041   \n",
       "\n",
       "                        difference     meann  \n",
       "Materials                 0.891113  0.375096  \n",
       "Industrials              -0.269956 -0.792773  \n",
       "Consumer Discretionary   -0.127595  0.545249  \n",
       "Consumer Staples         -0.021102 -0.385839  \n",
       "Health Care              -0.502091 -0.449669  \n",
       "Financials               -0.291767 -0.820738  \n",
       "Technology                0.032738  0.570827  \n",
       "Telecomm                  0.846739  0.787719  \n",
       "Utilities                -0.318842 -0.675802  \n",
       "Real Estate               0.594496 -0.055502  \n",
       "Energy                   -0.086260 -0.738378  \n",
       "distance                  0.593203  0.345041  \n",
       "difference                1.000000  0.644235  \n",
       "meann                     0.644235  1.000000  "
      ]
     },
     "execution_count": 72,
     "metadata": {},
     "output_type": "execute_result"
    }
   ],
   "source": [
    "\n",
    "\n",
    "combo_df = exposure.mean_return_combo_monthly.copy()\n",
    "combo_df['distance'] = [abs(i[0] - i[1]) for i in combo_df.index ]\n",
    "combo_df['difference'] = [i[0] - i[1] for i in combo_df.index ]\n",
    "combo_df['meann'] = [ (i[0] + i[1])/2 for i in combo_df.index ]\n",
    "combo_df.corr()\n",
    "\n"
   ]
  },
  {
   "cell_type": "code",
   "execution_count": 81,
   "metadata": {},
   "outputs": [
    {
     "data": {
      "text/html": [
       "<div>\n",
       "<style scoped>\n",
       "    .dataframe tbody tr th:only-of-type {\n",
       "        vertical-align: middle;\n",
       "    }\n",
       "\n",
       "    .dataframe tbody tr th {\n",
       "        vertical-align: top;\n",
       "    }\n",
       "\n",
       "    .dataframe thead th {\n",
       "        text-align: right;\n",
       "    }\n",
       "</style>\n",
       "<table border=\"1\" class=\"dataframe\">\n",
       "  <thead>\n",
       "    <tr style=\"text-align: right;\">\n",
       "      <th></th>\n",
       "      <th>nominal_yield_scores</th>\n",
       "      <th>economic_uncertainty_scores</th>\n",
       "      <th>difference</th>\n",
       "    </tr>\n",
       "    <tr>\n",
       "      <th>Date</th>\n",
       "      <th></th>\n",
       "      <th></th>\n",
       "      <th></th>\n",
       "    </tr>\n",
       "  </thead>\n",
       "  <tbody>\n",
       "    <tr>\n",
       "      <th>2013-08-23</th>\n",
       "      <td>1.0</td>\n",
       "      <td>-1.0</td>\n",
       "      <td>2.0</td>\n",
       "    </tr>\n",
       "    <tr>\n",
       "      <th>2013-08-26</th>\n",
       "      <td>1.0</td>\n",
       "      <td>-1.0</td>\n",
       "      <td>2.0</td>\n",
       "    </tr>\n",
       "    <tr>\n",
       "      <th>2013-08-27</th>\n",
       "      <td>1.0</td>\n",
       "      <td>-1.0</td>\n",
       "      <td>2.0</td>\n",
       "    </tr>\n",
       "    <tr>\n",
       "      <th>2013-08-28</th>\n",
       "      <td>1.0</td>\n",
       "      <td>-1.0</td>\n",
       "      <td>2.0</td>\n",
       "    </tr>\n",
       "    <tr>\n",
       "      <th>2013-08-29</th>\n",
       "      <td>1.0</td>\n",
       "      <td>-1.0</td>\n",
       "      <td>2.0</td>\n",
       "    </tr>\n",
       "    <tr>\n",
       "      <th>2013-08-30</th>\n",
       "      <td>1.0</td>\n",
       "      <td>-1.0</td>\n",
       "      <td>2.0</td>\n",
       "    </tr>\n",
       "    <tr>\n",
       "      <th>2013-10-15</th>\n",
       "      <td>1.0</td>\n",
       "      <td>-1.0</td>\n",
       "      <td>2.0</td>\n",
       "    </tr>\n",
       "    <tr>\n",
       "      <th>2013-10-16</th>\n",
       "      <td>1.0</td>\n",
       "      <td>-1.0</td>\n",
       "      <td>2.0</td>\n",
       "    </tr>\n",
       "    <tr>\n",
       "      <th>2013-10-17</th>\n",
       "      <td>1.0</td>\n",
       "      <td>-1.0</td>\n",
       "      <td>2.0</td>\n",
       "    </tr>\n",
       "    <tr>\n",
       "      <th>2013-11-20</th>\n",
       "      <td>1.0</td>\n",
       "      <td>-1.0</td>\n",
       "      <td>2.0</td>\n",
       "    </tr>\n",
       "    <tr>\n",
       "      <th>2013-11-21</th>\n",
       "      <td>1.0</td>\n",
       "      <td>-1.0</td>\n",
       "      <td>2.0</td>\n",
       "    </tr>\n",
       "    <tr>\n",
       "      <th>2013-11-22</th>\n",
       "      <td>1.0</td>\n",
       "      <td>-1.0</td>\n",
       "      <td>2.0</td>\n",
       "    </tr>\n",
       "    <tr>\n",
       "      <th>2013-11-25</th>\n",
       "      <td>1.0</td>\n",
       "      <td>-1.0</td>\n",
       "      <td>2.0</td>\n",
       "    </tr>\n",
       "    <tr>\n",
       "      <th>2013-11-26</th>\n",
       "      <td>1.0</td>\n",
       "      <td>-1.0</td>\n",
       "      <td>2.0</td>\n",
       "    </tr>\n",
       "    <tr>\n",
       "      <th>2013-11-27</th>\n",
       "      <td>1.0</td>\n",
       "      <td>-1.0</td>\n",
       "      <td>2.0</td>\n",
       "    </tr>\n",
       "    <tr>\n",
       "      <th>2014-04-01</th>\n",
       "      <td>1.0</td>\n",
       "      <td>-1.0</td>\n",
       "      <td>2.0</td>\n",
       "    </tr>\n",
       "    <tr>\n",
       "      <th>2014-04-02</th>\n",
       "      <td>1.0</td>\n",
       "      <td>-1.0</td>\n",
       "      <td>2.0</td>\n",
       "    </tr>\n",
       "    <tr>\n",
       "      <th>2014-04-03</th>\n",
       "      <td>1.0</td>\n",
       "      <td>-1.0</td>\n",
       "      <td>2.0</td>\n",
       "    </tr>\n",
       "    <tr>\n",
       "      <th>2014-04-04</th>\n",
       "      <td>1.0</td>\n",
       "      <td>-1.0</td>\n",
       "      <td>2.0</td>\n",
       "    </tr>\n",
       "    <tr>\n",
       "      <th>2014-04-07</th>\n",
       "      <td>1.0</td>\n",
       "      <td>-1.0</td>\n",
       "      <td>2.0</td>\n",
       "    </tr>\n",
       "    <tr>\n",
       "      <th>2014-04-08</th>\n",
       "      <td>1.0</td>\n",
       "      <td>-1.0</td>\n",
       "      <td>2.0</td>\n",
       "    </tr>\n",
       "    <tr>\n",
       "      <th>2014-04-09</th>\n",
       "      <td>1.0</td>\n",
       "      <td>-1.0</td>\n",
       "      <td>2.0</td>\n",
       "    </tr>\n",
       "    <tr>\n",
       "      <th>2014-04-10</th>\n",
       "      <td>1.0</td>\n",
       "      <td>-1.0</td>\n",
       "      <td>2.0</td>\n",
       "    </tr>\n",
       "    <tr>\n",
       "      <th>2014-04-11</th>\n",
       "      <td>1.0</td>\n",
       "      <td>-1.0</td>\n",
       "      <td>2.0</td>\n",
       "    </tr>\n",
       "    <tr>\n",
       "      <th>2014-04-14</th>\n",
       "      <td>1.0</td>\n",
       "      <td>-1.0</td>\n",
       "      <td>2.0</td>\n",
       "    </tr>\n",
       "    <tr>\n",
       "      <th>2014-04-15</th>\n",
       "      <td>1.0</td>\n",
       "      <td>-1.0</td>\n",
       "      <td>2.0</td>\n",
       "    </tr>\n",
       "    <tr>\n",
       "      <th>2017-10-18</th>\n",
       "      <td>1.0</td>\n",
       "      <td>-1.0</td>\n",
       "      <td>2.0</td>\n",
       "    </tr>\n",
       "    <tr>\n",
       "      <th>2017-10-19</th>\n",
       "      <td>1.0</td>\n",
       "      <td>-1.0</td>\n",
       "      <td>2.0</td>\n",
       "    </tr>\n",
       "    <tr>\n",
       "      <th>2018-08-30</th>\n",
       "      <td>2.0</td>\n",
       "      <td>0.0</td>\n",
       "      <td>2.0</td>\n",
       "    </tr>\n",
       "    <tr>\n",
       "      <th>2018-08-31</th>\n",
       "      <td>2.0</td>\n",
       "      <td>0.0</td>\n",
       "      <td>2.0</td>\n",
       "    </tr>\n",
       "    <tr>\n",
       "      <th>2018-10-16</th>\n",
       "      <td>2.0</td>\n",
       "      <td>0.0</td>\n",
       "      <td>2.0</td>\n",
       "    </tr>\n",
       "    <tr>\n",
       "      <th>2018-10-17</th>\n",
       "      <td>2.0</td>\n",
       "      <td>0.0</td>\n",
       "      <td>2.0</td>\n",
       "    </tr>\n",
       "    <tr>\n",
       "      <th>2018-10-18</th>\n",
       "      <td>2.0</td>\n",
       "      <td>0.0</td>\n",
       "      <td>2.0</td>\n",
       "    </tr>\n",
       "    <tr>\n",
       "      <th>2018-10-19</th>\n",
       "      <td>2.0</td>\n",
       "      <td>0.0</td>\n",
       "      <td>2.0</td>\n",
       "    </tr>\n",
       "    <tr>\n",
       "      <th>2018-10-22</th>\n",
       "      <td>2.0</td>\n",
       "      <td>0.0</td>\n",
       "      <td>2.0</td>\n",
       "    </tr>\n",
       "    <tr>\n",
       "      <th>2018-10-23</th>\n",
       "      <td>2.0</td>\n",
       "      <td>0.0</td>\n",
       "      <td>2.0</td>\n",
       "    </tr>\n",
       "    <tr>\n",
       "      <th>2018-10-24</th>\n",
       "      <td>2.0</td>\n",
       "      <td>0.0</td>\n",
       "      <td>2.0</td>\n",
       "    </tr>\n",
       "    <tr>\n",
       "      <th>2018-11-05</th>\n",
       "      <td>2.0</td>\n",
       "      <td>0.0</td>\n",
       "      <td>2.0</td>\n",
       "    </tr>\n",
       "    <tr>\n",
       "      <th>2018-11-06</th>\n",
       "      <td>2.0</td>\n",
       "      <td>0.0</td>\n",
       "      <td>2.0</td>\n",
       "    </tr>\n",
       "    <tr>\n",
       "      <th>2018-11-07</th>\n",
       "      <td>2.0</td>\n",
       "      <td>0.0</td>\n",
       "      <td>2.0</td>\n",
       "    </tr>\n",
       "    <tr>\n",
       "      <th>2018-11-08</th>\n",
       "      <td>2.0</td>\n",
       "      <td>0.0</td>\n",
       "      <td>2.0</td>\n",
       "    </tr>\n",
       "    <tr>\n",
       "      <th>2018-11-09</th>\n",
       "      <td>2.0</td>\n",
       "      <td>0.0</td>\n",
       "      <td>2.0</td>\n",
       "    </tr>\n",
       "    <tr>\n",
       "      <th>2018-11-13</th>\n",
       "      <td>2.0</td>\n",
       "      <td>0.0</td>\n",
       "      <td>2.0</td>\n",
       "    </tr>\n",
       "    <tr>\n",
       "      <th>2018-11-14</th>\n",
       "      <td>2.0</td>\n",
       "      <td>-0.0</td>\n",
       "      <td>2.0</td>\n",
       "    </tr>\n",
       "    <tr>\n",
       "      <th>2018-11-15</th>\n",
       "      <td>2.0</td>\n",
       "      <td>-0.0</td>\n",
       "      <td>2.0</td>\n",
       "    </tr>\n",
       "    <tr>\n",
       "      <th>2018-11-16</th>\n",
       "      <td>2.0</td>\n",
       "      <td>-0.0</td>\n",
       "      <td>2.0</td>\n",
       "    </tr>\n",
       "    <tr>\n",
       "      <th>2018-11-19</th>\n",
       "      <td>2.0</td>\n",
       "      <td>-0.0</td>\n",
       "      <td>2.0</td>\n",
       "    </tr>\n",
       "    <tr>\n",
       "      <th>2019-04-02</th>\n",
       "      <td>2.0</td>\n",
       "      <td>-0.0</td>\n",
       "      <td>2.0</td>\n",
       "    </tr>\n",
       "    <tr>\n",
       "      <th>2019-04-03</th>\n",
       "      <td>2.0</td>\n",
       "      <td>-0.0</td>\n",
       "      <td>2.0</td>\n",
       "    </tr>\n",
       "  </tbody>\n",
       "</table>\n",
       "</div>"
      ],
      "text/plain": [
       "            nominal_yield_scores  economic_uncertainty_scores  difference\n",
       "Date                                                                     \n",
       "2013-08-23                   1.0                         -1.0         2.0\n",
       "2013-08-26                   1.0                         -1.0         2.0\n",
       "2013-08-27                   1.0                         -1.0         2.0\n",
       "2013-08-28                   1.0                         -1.0         2.0\n",
       "2013-08-29                   1.0                         -1.0         2.0\n",
       "2013-08-30                   1.0                         -1.0         2.0\n",
       "2013-10-15                   1.0                         -1.0         2.0\n",
       "2013-10-16                   1.0                         -1.0         2.0\n",
       "2013-10-17                   1.0                         -1.0         2.0\n",
       "2013-11-20                   1.0                         -1.0         2.0\n",
       "2013-11-21                   1.0                         -1.0         2.0\n",
       "2013-11-22                   1.0                         -1.0         2.0\n",
       "2013-11-25                   1.0                         -1.0         2.0\n",
       "2013-11-26                   1.0                         -1.0         2.0\n",
       "2013-11-27                   1.0                         -1.0         2.0\n",
       "2014-04-01                   1.0                         -1.0         2.0\n",
       "2014-04-02                   1.0                         -1.0         2.0\n",
       "2014-04-03                   1.0                         -1.0         2.0\n",
       "2014-04-04                   1.0                         -1.0         2.0\n",
       "2014-04-07                   1.0                         -1.0         2.0\n",
       "2014-04-08                   1.0                         -1.0         2.0\n",
       "2014-04-09                   1.0                         -1.0         2.0\n",
       "2014-04-10                   1.0                         -1.0         2.0\n",
       "2014-04-11                   1.0                         -1.0         2.0\n",
       "2014-04-14                   1.0                         -1.0         2.0\n",
       "2014-04-15                   1.0                         -1.0         2.0\n",
       "2017-10-18                   1.0                         -1.0         2.0\n",
       "2017-10-19                   1.0                         -1.0         2.0\n",
       "2018-08-30                   2.0                          0.0         2.0\n",
       "2018-08-31                   2.0                          0.0         2.0\n",
       "2018-10-16                   2.0                          0.0         2.0\n",
       "2018-10-17                   2.0                          0.0         2.0\n",
       "2018-10-18                   2.0                          0.0         2.0\n",
       "2018-10-19                   2.0                          0.0         2.0\n",
       "2018-10-22                   2.0                          0.0         2.0\n",
       "2018-10-23                   2.0                          0.0         2.0\n",
       "2018-10-24                   2.0                          0.0         2.0\n",
       "2018-11-05                   2.0                          0.0         2.0\n",
       "2018-11-06                   2.0                          0.0         2.0\n",
       "2018-11-07                   2.0                          0.0         2.0\n",
       "2018-11-08                   2.0                          0.0         2.0\n",
       "2018-11-09                   2.0                          0.0         2.0\n",
       "2018-11-13                   2.0                          0.0         2.0\n",
       "2018-11-14                   2.0                         -0.0         2.0\n",
       "2018-11-15                   2.0                         -0.0         2.0\n",
       "2018-11-16                   2.0                         -0.0         2.0\n",
       "2018-11-19                   2.0                         -0.0         2.0\n",
       "2019-04-02                   2.0                         -0.0         2.0\n",
       "2019-04-03                   2.0                         -0.0         2.0"
      ]
     },
     "execution_count": 81,
     "metadata": {},
     "output_type": "execute_result"
    }
   ],
   "source": [
    "\n",
    "bruh[['nominal_yield_scores', 'economic_uncertainty_scores', 'difference']].loc[ bruh.difference == 2 ] \n"
   ]
  },
  {
   "cell_type": "code",
   "execution_count": 85,
   "metadata": {},
   "outputs": [
    {
     "data": {
      "application/vnd.plotly.v1+json": {
       "config": {
        "plotlyServerURL": "https://plot.ly"
       },
       "data": [
        {
         "customdata": [
          [
           "2011-10-31"
          ],
          [
           "2011-11-01"
          ],
          [
           "2011-11-02"
          ],
          [
           "2011-11-03"
          ],
          [
           "2011-11-04"
          ],
          [
           "2011-11-07"
          ],
          [
           "2011-11-08"
          ],
          [
           "2011-11-09"
          ],
          [
           "2011-11-10"
          ],
          [
           "2011-11-14"
          ],
          [
           "2011-11-15"
          ],
          [
           "2011-11-16"
          ],
          [
           "2011-11-17"
          ],
          [
           "2011-11-18"
          ],
          [
           "2011-11-21"
          ],
          [
           "2011-11-22"
          ],
          [
           "2011-11-23"
          ],
          [
           "2012-04-03"
          ],
          [
           "2012-04-04"
          ],
          [
           "2012-04-05"
          ],
          [
           "2012-05-21"
          ],
          [
           "2012-05-22"
          ],
          [
           "2012-05-23"
          ],
          [
           "2012-05-24"
          ],
          [
           "2012-05-25"
          ],
          [
           "2012-08-16"
          ],
          [
           "2012-08-17"
          ],
          [
           "2012-08-20"
          ],
          [
           "2012-08-21"
          ],
          [
           "2012-08-22"
          ],
          [
           "2012-08-23"
          ],
          [
           "2012-08-24"
          ],
          [
           "2012-08-27"
          ],
          [
           "2012-08-28"
          ],
          [
           "2012-08-29"
          ],
          [
           "2012-08-30"
          ],
          [
           "2012-08-31"
          ],
          [
           "2012-10-16"
          ],
          [
           "2012-10-17"
          ],
          [
           "2012-10-18"
          ],
          [
           "2012-10-19"
          ],
          [
           "2012-10-22"
          ],
          [
           "2012-10-23"
          ],
          [
           "2012-10-24"
          ],
          [
           "2012-10-25"
          ],
          [
           "2012-10-26"
          ],
          [
           "2013-05-13"
          ],
          [
           "2013-05-14"
          ],
          [
           "2013-05-15"
          ],
          [
           "2013-05-16"
          ],
          [
           "2013-05-17"
          ],
          [
           "2013-05-20"
          ],
          [
           "2013-05-21"
          ],
          [
           "2013-05-22"
          ],
          [
           "2013-05-23"
          ],
          [
           "2013-05-24"
          ],
          [
           "2013-08-16"
          ],
          [
           "2013-08-19"
          ],
          [
           "2013-08-20"
          ],
          [
           "2013-08-21"
          ],
          [
           "2013-08-22"
          ],
          [
           "2013-08-23"
          ],
          [
           "2013-08-26"
          ],
          [
           "2013-08-27"
          ],
          [
           "2013-08-28"
          ],
          [
           "2013-08-29"
          ],
          [
           "2013-08-30"
          ],
          [
           "2013-10-15"
          ],
          [
           "2013-10-16"
          ],
          [
           "2013-10-17"
          ],
          [
           "2013-10-18"
          ],
          [
           "2013-10-21"
          ],
          [
           "2013-10-22"
          ],
          [
           "2013-10-23"
          ],
          [
           "2013-10-24"
          ],
          [
           "2013-10-25"
          ],
          [
           "2013-10-28"
          ],
          [
           "2013-10-29"
          ],
          [
           "2013-10-30"
          ],
          [
           "2013-10-31"
          ],
          [
           "2013-11-01"
          ],
          [
           "2013-11-04"
          ],
          [
           "2013-11-05"
          ],
          [
           "2013-11-06"
          ],
          [
           "2013-11-07"
          ],
          [
           "2013-11-08"
          ],
          [
           "2013-11-12"
          ],
          [
           "2013-11-13"
          ],
          [
           "2013-11-14"
          ],
          [
           "2013-11-15"
          ],
          [
           "2013-11-18"
          ],
          [
           "2013-11-19"
          ],
          [
           "2013-11-20"
          ],
          [
           "2013-11-21"
          ],
          [
           "2013-11-22"
          ],
          [
           "2013-11-25"
          ],
          [
           "2013-11-26"
          ],
          [
           "2013-11-27"
          ],
          [
           "2014-04-01"
          ],
          [
           "2014-04-02"
          ],
          [
           "2014-04-03"
          ],
          [
           "2014-04-04"
          ],
          [
           "2014-04-07"
          ],
          [
           "2014-04-08"
          ],
          [
           "2014-04-09"
          ],
          [
           "2014-04-10"
          ],
          [
           "2014-04-11"
          ],
          [
           "2014-04-14"
          ],
          [
           "2014-04-15"
          ],
          [
           "2014-04-16"
          ],
          [
           "2014-04-17"
          ],
          [
           "2014-08-18"
          ],
          [
           "2014-08-19"
          ],
          [
           "2014-08-20"
          ],
          [
           "2014-08-21"
          ],
          [
           "2014-08-22"
          ],
          [
           "2014-08-25"
          ],
          [
           "2014-08-26"
          ],
          [
           "2014-08-27"
          ],
          [
           "2014-08-28"
          ],
          [
           "2014-08-29"
          ],
          [
           "2014-10-14"
          ],
          [
           "2014-10-15"
          ],
          [
           "2014-10-16"
          ],
          [
           "2014-10-17"
          ],
          [
           "2014-10-20"
          ],
          [
           "2014-10-21"
          ],
          [
           "2014-10-22"
          ],
          [
           "2014-10-23"
          ],
          [
           "2014-10-24"
          ],
          [
           "2014-10-27"
          ],
          [
           "2014-10-28"
          ],
          [
           "2014-10-29"
          ],
          [
           "2014-10-30"
          ],
          [
           "2014-10-31"
          ],
          [
           "2014-11-03"
          ],
          [
           "2014-11-04"
          ],
          [
           "2014-11-05"
          ],
          [
           "2014-11-06"
          ],
          [
           "2014-11-07"
          ],
          [
           "2014-11-10"
          ],
          [
           "2014-11-12"
          ],
          [
           "2014-11-13"
          ],
          [
           "2014-11-14"
          ],
          [
           "2014-11-17"
          ],
          [
           "2014-11-18"
          ],
          [
           "2014-11-19"
          ],
          [
           "2014-11-20"
          ],
          [
           "2014-11-21"
          ],
          [
           "2014-11-24"
          ],
          [
           "2014-11-25"
          ],
          [
           "2014-11-26"
          ],
          [
           "2015-03-31"
          ],
          [
           "2015-04-01"
          ],
          [
           "2015-04-02"
          ],
          [
           "2015-05-18"
          ],
          [
           "2015-05-19"
          ],
          [
           "2015-05-20"
          ],
          [
           "2015-05-21"
          ],
          [
           "2015-05-22"
          ],
          [
           "2015-08-17"
          ],
          [
           "2015-08-18"
          ],
          [
           "2015-08-19"
          ],
          [
           "2015-08-20"
          ],
          [
           "2015-08-21"
          ],
          [
           "2015-08-24"
          ],
          [
           "2015-08-25"
          ],
          [
           "2015-08-26"
          ],
          [
           "2015-08-27"
          ],
          [
           "2015-08-28"
          ],
          [
           "2015-08-31"
          ],
          [
           "2015-09-01"
          ],
          [
           "2015-09-02"
          ],
          [
           "2015-09-03"
          ],
          [
           "2015-09-04"
          ],
          [
           "2015-10-20"
          ],
          [
           "2015-10-21"
          ],
          [
           "2015-10-22"
          ],
          [
           "2015-10-23"
          ],
          [
           "2015-10-26"
          ],
          [
           "2015-10-27"
          ],
          [
           "2015-10-28"
          ],
          [
           "2015-10-29"
          ],
          [
           "2015-10-30"
          ],
          [
           "2015-11-02"
          ],
          [
           "2015-11-03"
          ],
          [
           "2015-11-04"
          ],
          [
           "2015-11-05"
          ],
          [
           "2015-11-06"
          ],
          [
           "2015-11-09"
          ],
          [
           "2015-11-10"
          ],
          [
           "2015-11-12"
          ],
          [
           "2015-11-13"
          ],
          [
           "2015-11-16"
          ],
          [
           "2015-11-17"
          ],
          [
           "2015-11-18"
          ],
          [
           "2015-11-19"
          ],
          [
           "2015-11-20"
          ],
          [
           "2015-11-23"
          ],
          [
           "2015-11-24"
          ],
          [
           "2015-11-25"
          ],
          [
           "2016-05-09"
          ],
          [
           "2016-05-10"
          ],
          [
           "2016-05-11"
          ],
          [
           "2016-05-12"
          ],
          [
           "2016-05-13"
          ],
          [
           "2016-05-16"
          ],
          [
           "2016-05-17"
          ],
          [
           "2016-05-18"
          ],
          [
           "2016-05-19"
          ],
          [
           "2016-05-20"
          ],
          [
           "2016-05-23"
          ],
          [
           "2016-05-24"
          ],
          [
           "2016-05-25"
          ],
          [
           "2016-05-26"
          ],
          [
           "2016-05-27"
          ],
          [
           "2016-08-16"
          ],
          [
           "2016-08-17"
          ],
          [
           "2016-08-18"
          ],
          [
           "2016-08-19"
          ],
          [
           "2016-08-22"
          ],
          [
           "2016-08-23"
          ],
          [
           "2016-08-24"
          ],
          [
           "2016-08-25"
          ],
          [
           "2016-08-26"
          ],
          [
           "2016-08-29"
          ],
          [
           "2016-08-30"
          ],
          [
           "2016-08-31"
          ],
          [
           "2016-09-01"
          ],
          [
           "2016-09-02"
          ],
          [
           "2016-10-18"
          ],
          [
           "2016-10-19"
          ],
          [
           "2016-10-20"
          ],
          [
           "2016-10-21"
          ],
          [
           "2016-10-24"
          ],
          [
           "2016-10-25"
          ],
          [
           "2016-10-26"
          ],
          [
           "2016-10-27"
          ],
          [
           "2016-10-28"
          ],
          [
           "2016-10-31"
          ],
          [
           "2016-11-01"
          ],
          [
           "2016-11-02"
          ],
          [
           "2016-11-03"
          ],
          [
           "2016-11-04"
          ],
          [
           "2016-11-07"
          ],
          [
           "2016-11-08"
          ],
          [
           "2016-11-09"
          ],
          [
           "2016-11-10"
          ],
          [
           "2016-11-14"
          ],
          [
           "2016-11-15"
          ],
          [
           "2016-11-16"
          ],
          [
           "2016-11-17"
          ],
          [
           "2016-11-18"
          ],
          [
           "2016-11-21"
          ],
          [
           "2016-11-22"
          ],
          [
           "2016-11-23"
          ],
          [
           "2017-04-04"
          ],
          [
           "2017-04-07"
          ],
          [
           "2017-08-17"
          ],
          [
           "2017-08-18"
          ],
          [
           "2017-08-22"
          ],
          [
           "2017-08-23"
          ],
          [
           "2017-08-24"
          ],
          [
           "2017-08-25"
          ],
          [
           "2017-08-29"
          ],
          [
           "2017-08-30"
          ],
          [
           "2017-08-31"
          ],
          [
           "2017-09-01"
          ],
          [
           "2017-10-17"
          ],
          [
           "2017-10-18"
          ],
          [
           "2017-10-19"
          ],
          [
           "2017-10-20"
          ],
          [
           "2017-10-23"
          ],
          [
           "2017-10-24"
          ],
          [
           "2017-10-25"
          ],
          [
           "2017-10-26"
          ],
          [
           "2017-10-27"
          ],
          [
           "2017-10-30"
          ],
          [
           "2017-10-31"
          ],
          [
           "2017-11-01"
          ],
          [
           "2017-11-02"
          ],
          [
           "2017-11-03"
          ],
          [
           "2017-11-06"
          ],
          [
           "2017-11-07"
          ],
          [
           "2017-11-08"
          ],
          [
           "2017-11-09"
          ],
          [
           "2017-11-10"
          ],
          [
           "2017-11-13"
          ],
          [
           "2017-11-14"
          ],
          [
           "2017-11-15"
          ],
          [
           "2017-11-16"
          ],
          [
           "2017-11-17"
          ],
          [
           "2017-11-20"
          ],
          [
           "2017-11-21"
          ],
          [
           "2017-11-22"
          ],
          [
           "2018-05-14"
          ],
          [
           "2018-05-15"
          ],
          [
           "2018-05-16"
          ],
          [
           "2018-05-17"
          ],
          [
           "2018-05-18"
          ],
          [
           "2018-05-21"
          ],
          [
           "2018-05-22"
          ],
          [
           "2018-05-23"
          ],
          [
           "2018-05-24"
          ],
          [
           "2018-05-25"
          ],
          [
           "2018-08-30"
          ],
          [
           "2018-08-31"
          ],
          [
           "2018-10-16"
          ],
          [
           "2018-10-17"
          ],
          [
           "2018-10-18"
          ],
          [
           "2018-10-19"
          ],
          [
           "2018-10-22"
          ],
          [
           "2018-10-23"
          ],
          [
           "2018-10-24"
          ],
          [
           "2018-10-25"
          ],
          [
           "2018-10-26"
          ],
          [
           "2018-10-29"
          ],
          [
           "2018-10-30"
          ],
          [
           "2018-10-31"
          ],
          [
           "2018-11-01"
          ],
          [
           "2018-11-02"
          ],
          [
           "2018-11-05"
          ],
          [
           "2018-11-06"
          ],
          [
           "2018-11-07"
          ],
          [
           "2018-11-08"
          ],
          [
           "2018-11-09"
          ],
          [
           "2018-11-13"
          ],
          [
           "2018-11-14"
          ],
          [
           "2018-11-15"
          ],
          [
           "2018-11-16"
          ],
          [
           "2018-11-19"
          ],
          [
           "2018-11-20"
          ],
          [
           "2018-11-21"
          ],
          [
           "2019-04-02"
          ],
          [
           "2019-04-03"
          ]
         ],
         "hovertemplate": "difference=%{x}<br>Telecomm=%{y}<br>Date=%{customdata[0]}<br>nominal_yield_scores=%{marker.color}<extra></extra>",
         "legendgroup": "",
         "marker": {
          "color": [
           -2,
           -2,
           -1,
           -1,
           -1,
           -1,
           -1,
           -1,
           -1,
           -1,
           -1,
           -1,
           -1,
           -1,
           -1,
           -1,
           -1,
           -1,
           -1,
           -1,
           -1,
           -1,
           -1,
           -1,
           -1,
           -1,
           -1,
           -1,
           -1,
           -1,
           -1,
           -1,
           -1,
           -1,
           -1,
           -1,
           -1,
           -1,
           -1,
           -1,
           -1,
           -1,
           -1,
           -1,
           -1,
           -1,
           -1,
           -1,
           -1,
           -1,
           -1,
           -1,
           -1,
           -1,
           -1,
           -1,
           0,
           0,
           0,
           0,
           0,
           1,
           1,
           1,
           1,
           1,
           1,
           1,
           1,
           1,
           1,
           1,
           1,
           1,
           1,
           1,
           1,
           1,
           1,
           1,
           1,
           1,
           1,
           0,
           0,
           0,
           0,
           0,
           0,
           0,
           0,
           0,
           1,
           1,
           1,
           1,
           1,
           1,
           1,
           1,
           1,
           1,
           1,
           1,
           1,
           1,
           1,
           1,
           1,
           0,
           0,
           0,
           0,
           0,
           0,
           0,
           0,
           0,
           0,
           0,
           0,
           0,
           -1,
           -1,
           -1,
           -1,
           -1,
           -1,
           -1,
           -1,
           -1,
           -1,
           -1,
           -1,
           -1,
           -1,
           -1,
           -1,
           0,
           0,
           0,
           0,
           0,
           0,
           0,
           0,
           0,
           0,
           0,
           0,
           0,
           0,
           0,
           0,
           0,
           0,
           0,
           0,
           -1,
           -1,
           -1,
           -1,
           -1,
           -1,
           -1,
           -1,
           -1,
           -1,
           -1,
           -1,
           -1,
           -1,
           -1,
           -1,
           -1,
           0,
           0,
           0,
           -1,
           -1,
           -1,
           -1,
           0,
           -1,
           -1,
           -1,
           0,
           0,
           0,
           0,
           0,
           0,
           0,
           0,
           0,
           0,
           0,
           0,
           0,
           0,
           0,
           0,
           0,
           0,
           -1,
           -1,
           -1,
           -1,
           -1,
           -1,
           -1,
           -1,
           -1,
           -2,
           -2,
           -2,
           -2,
           -2,
           -2,
           -2,
           -2,
           -2,
           -2,
           -2,
           -2,
           -2,
           -2,
           -2,
           -2,
           -2,
           -2,
           -2,
           -2,
           -2,
           -2,
           -1,
           -1,
           -1,
           -1,
           -1,
           -1,
           -1,
           -1,
           -1,
           -1,
           -1,
           -1,
           0,
           0,
           0,
           0,
           0,
           0,
           0,
           0,
           1,
           1,
           1,
           1,
           1,
           1,
           1,
           1,
           1,
           1,
           1,
           1,
           1,
           1,
           1,
           1,
           0,
           0,
           0,
           0,
           0,
           0,
           0,
           0,
           0,
           0,
           0,
           0,
           0,
           1,
           1,
           1,
           1,
           1,
           1,
           1,
           1,
           1,
           1,
           0,
           0,
           1,
           1,
           1,
           1,
           1,
           1,
           1,
           1,
           1,
           2,
           2,
           2,
           2,
           2,
           2,
           2,
           2,
           2,
           3,
           3,
           3,
           3,
           3,
           3,
           3,
           2,
           2,
           2,
           2,
           2,
           2,
           2,
           2,
           2,
           2,
           2,
           2,
           2,
           2
          ],
          "coloraxis": "coloraxis",
          "symbol": "circle"
         },
         "mode": "markers",
         "name": "",
         "orientation": "v",
         "showlegend": false,
         "type": "scatter",
         "x": [
          -2,
          -2,
          0,
          0,
          0,
          0,
          0,
          0,
          0,
          0,
          0,
          0,
          0,
          0,
          0,
          0,
          -1,
          -1,
          -1,
          -1,
          -1,
          -1,
          -1,
          -1,
          -1,
          -1,
          -1,
          -1,
          -1,
          -1,
          -1,
          -1,
          -1,
          -1,
          -1,
          -1,
          -1,
          -1,
          -1,
          -1,
          -1,
          -1,
          -1,
          -1,
          -1,
          -1,
          -1,
          -1,
          -1,
          -1,
          -1,
          -1,
          -1,
          -1,
          0,
          0,
          1,
          1,
          1,
          1,
          1,
          2,
          2,
          2,
          2,
          2,
          2,
          2,
          2,
          2,
          1,
          1,
          1,
          1,
          1,
          1,
          1,
          1,
          1,
          1,
          1,
          1,
          1,
          0,
          0,
          0,
          1,
          1,
          1,
          1,
          1,
          1,
          2,
          2,
          2,
          2,
          2,
          2,
          2,
          2,
          2,
          2,
          2,
          2,
          2,
          2,
          2,
          2,
          2,
          1,
          1,
          1,
          1,
          1,
          1,
          1,
          1,
          1,
          1,
          1,
          1,
          1,
          0,
          0,
          0,
          0,
          0,
          0,
          0,
          0,
          0,
          0,
          0,
          0,
          0,
          0,
          0,
          0,
          1,
          1,
          1,
          1,
          1,
          1,
          1,
          1,
          1,
          1,
          1,
          1,
          1,
          1,
          1,
          1,
          1,
          1,
          1,
          1,
          0,
          0,
          0,
          0,
          0,
          0,
          0,
          0,
          0,
          0,
          0,
          0,
          -1,
          -1,
          -1,
          -1,
          -1,
          0,
          0,
          0,
          -1,
          -1,
          -1,
          -1,
          0,
          -1,
          -1,
          -1,
          1,
          1,
          1,
          1,
          1,
          1,
          1,
          1,
          1,
          1,
          1,
          1,
          1,
          1,
          1,
          1,
          1,
          1,
          0,
          0,
          0,
          0,
          0,
          0,
          0,
          0,
          0,
          -1,
          -1,
          -1,
          -1,
          -1,
          -1,
          -1,
          -1,
          -1,
          -1,
          -1,
          -2,
          -2,
          -2,
          -2,
          -2,
          -2,
          -1,
          -2,
          -1,
          -1,
          -1,
          0,
          0,
          0,
          0,
          -1,
          -1,
          -1,
          -1,
          -1,
          -1,
          -1,
          -1,
          0,
          0,
          0,
          -1,
          -1,
          -1,
          -1,
          -1,
          0,
          0,
          0,
          0,
          1,
          1,
          1,
          1,
          1,
          1,
          1,
          1,
          1,
          1,
          2,
          2,
          1,
          1,
          1,
          1,
          1,
          1,
          1,
          1,
          1,
          0,
          0,
          0,
          0,
          1,
          1,
          1,
          1,
          1,
          1,
          1,
          1,
          1,
          1,
          0,
          0,
          1,
          1,
          1,
          1,
          1,
          1,
          1,
          1,
          1,
          2,
          2,
          2,
          2,
          2,
          2,
          2,
          2,
          2,
          3,
          3,
          3,
          3,
          3,
          3,
          3,
          2,
          2,
          2,
          2,
          2,
          2,
          2,
          2,
          2,
          2,
          3,
          3,
          2,
          2
         ],
         "xaxis": "x",
         "y": [
          -0.4402909251580967,
          -0.4397072139549585,
          -0.43632730976592526,
          -0.4334038292794699,
          -0.4312016906389494,
          -0.4285941890161605,
          -0.4264960799545343,
          -0.42605999024668717,
          -0.4244471408514035,
          -0.4242421880644959,
          -0.42031164360730194,
          -0.4165104785475898,
          -0.4181084722608265,
          -0.4174670308883604,
          -0.41814544209818943,
          -0.42143343083006407,
          -0.42675960401649665,
          -0.4225372745350879,
          -0.4184212977422562,
          -0.4145760207471059,
          -0.41831520575331965,
          -0.422732180592557,
          -0.42693045313979056,
          -0.43371899536847763,
          -0.4408977122576442,
          -0.4472279191896104,
          -0.4528926255317626,
          -0.45867901702192043,
          -0.46207941439326217,
          -0.4659295994358234,
          -0.47067331276362395,
          -0.47571198442990936,
          -0.48059517757530235,
          -0.4819665633030795,
          -0.4840317058862225,
          -0.48552043407187556,
          -0.4856723754602943,
          -0.48297603530391087,
          -0.48170712191219894,
          -0.4804407158777564,
          -0.4799231361218994,
          -0.4714132462433429,
          -0.46277401188915995,
          -0.4549788039128376,
          -0.4457778970277035,
          -0.4373984552781779,
          -0.4247256407017547,
          -0.41229746573168247,
          -0.4004676556646225,
          -0.39042089723566353,
          -0.3802811078069487,
          -0.36933292114995386,
          -0.35777489145241137,
          -0.34523832258428644,
          -0.33332948694303954,
          -0.3212241349781911,
          -0.3046902717976736,
          -0.28839223242156065,
          -0.27466167482556014,
          -0.2676058878316012,
          -0.2588336217067848,
          -0.2512213153812362,
          -0.2438775425552107,
          -0.23690447449886792,
          -0.22860844614724854,
          -0.22158920026100656,
          -0.21374047013301517,
          -0.20841567156999888,
          -0.20332209263412662,
          -0.19930543438723577,
          -0.19591519062128204,
          -0.19414915438059058,
          -0.19277142818457732,
          -0.19237763850583162,
          -0.1907596948311803,
          -0.18891833751554904,
          -0.18685775172230965,
          -0.1890552216309064,
          -0.19157875540645397,
          -0.19391757194316497,
          -0.19653274030246073,
          -0.20082145355217784,
          -0.20326019459732547,
          -0.2066769398963325,
          -0.21027861231545814,
          -0.21401600876145255,
          -0.2169426330095211,
          -0.21849970850089862,
          -0.2217832180996784,
          -0.22455440262935472,
          -0.22642959945151034,
          -0.2263576522055018,
          -0.22452918894548052,
          -0.22486556545694464,
          -0.2253416994775625,
          -0.23205525081256068,
          -0.23871063654854216,
          -0.24506642342009524,
          -0.24743559151579317,
          -0.2496707724463509,
          -0.25208362983095056,
          -0.25569762883255065,
          -0.2595664066153553,
          -0.2645726706233375,
          -0.2682208508349927,
          -0.274775135144931,
          -0.28256668006004176,
          -0.29031753522044235,
          -0.2990610747445733,
          -0.3076098635306606,
          -0.3170270338485783,
          -0.32337548023782353,
          -0.3298382987536918,
          -0.3372057944688536,
          -0.3427991362366949,
          -0.34778183251305966,
          -0.348392909814802,
          -0.34931384769249585,
          -0.350811616594438,
          -0.35709264637186267,
          -0.36324460664614916,
          -0.37169823748946235,
          -0.3792967691285388,
          -0.38525877882022563,
          -0.39070615447226265,
          -0.3972946243363302,
          -0.3984934227403888,
          -0.3989254274800101,
          -0.3981029061063867,
          -0.39701016740443634,
          -0.39719228133348605,
          -0.39579656321261225,
          -0.40073005324964794,
          -0.40586506967118025,
          -0.4103293134640979,
          -0.4147162528876643,
          -0.4191404214526921,
          -0.42285138993476695,
          -0.4252764322922157,
          -0.427996898004223,
          -0.42897492739366083,
          -0.43036773098955616,
          -0.43144489016690263,
          -0.43295067962550277,
          -0.4322754381566728,
          -0.43111694361797614,
          -0.4292590338962904,
          -0.4282989457077079,
          -0.42676384032501186,
          -0.4256144017419538,
          -0.4251845994367135,
          -0.4239063462333469,
          -0.42152563577244595,
          -0.41619910404304167,
          -0.41127521685298585,
          -0.40542034901724056,
          -0.39954017100785866,
          -0.3940219463661766,
          -0.38960694938033846,
          -0.3859538845839332,
          -0.38090654351548264,
          -0.37680844414709513,
          -0.37295379142807683,
          -0.3671908307149856,
          -0.3615230984510086,
          -0.3599770612606254,
          -0.35927332475602175,
          -0.35817897983084646,
          -0.35641852698123266,
          -0.3547707573160458,
          -0.3546775238403062,
          -0.35496814448035874,
          -0.3542252119683999,
          -0.35632105080848847,
          -0.35780010911346727,
          -0.35627497880502124,
          -0.3561231164650852,
          -0.35543564318395915,
          -0.35354899750213775,
          -0.3510314256943759,
          -0.3481754829921191,
          -0.3454908507844704,
          -0.34241760683659556,
          -0.3393911226909275,
          -0.33553154502431876,
          -0.33071349801509137,
          -0.32458837940730245,
          -0.3183833093661579,
          -0.3123800816941689,
          -0.30757621448318473,
          -0.3026752377862581,
          -0.29860193600372,
          -0.29406775530556334,
          -0.2904390897440338,
          -0.2867206795376935,
          -0.28176871521647523,
          -0.27998639470943204,
          -0.2777778410073354,
          -0.27581684878115287,
          -0.2750137805884244,
          -0.2739168298242295,
          -0.2816151243760612,
          -0.2894478639257271,
          -0.2974369578751727,
          -0.30551714891177606,
          -0.3144459720783399,
          -0.32295239441905865,
          -0.33184644071819747,
          -0.3400306442232199,
          -0.3487593154176867,
          -0.3571584457338007,
          -0.3657456092319596,
          -0.37272297939552523,
          -0.3792139500938675,
          -0.38559755049811784,
          -0.39135485980209705,
          -0.39829215768855747,
          -0.4048835965784375,
          -0.41131808163765093,
          -0.41760598446679686,
          -0.4234789363832449,
          -0.4295851660063669,
          -0.42813519527125254,
          -0.42731999254029696,
          -0.42583830249555454,
          -0.41904048263932314,
          -0.4111395000813638,
          -0.4046627424452725,
          -0.3977034606334398,
          -0.3924400163084372,
          -0.3860891099636068,
          -0.38119927374820833,
          -0.37637808511058557,
          -0.37254145491742685,
          -0.3676683719114876,
          -0.3625723866681647,
          -0.3567439252525861,
          -0.35232952149964236,
          -0.34826652697937144,
          -0.3443188067515937,
          -0.33892193180709357,
          -0.33442660428546234,
          -0.3306182829237626,
          -0.3262568375842704,
          -0.32036057598781276,
          -0.3148240068673945,
          -0.3129340695048259,
          -0.3109036339032968,
          -0.3101188269689036,
          -0.3089347919094733,
          -0.3073146128952289,
          -0.3062925489320691,
          -0.30453009704618195,
          -0.30232183880459484,
          -0.3005541938041167,
          -0.29971206778308035,
          -0.2955596486347969,
          -0.29209167913873113,
          -0.2819458811792273,
          -0.2702676853200261,
          -0.25937603178514856,
          -0.25036946224879886,
          -0.2415389385414733,
          -0.23253409643221148,
          -0.22281990691684253,
          -0.2137681346370462,
          -0.20447587891914112,
          -0.19591277063921597,
          -0.18502902157503637,
          -0.1718551018448266,
          -0.15910497190361386,
          -0.14586960001950472,
          -0.13245073789137268,
          -0.1180714337120365,
          -0.10202623552378179,
          -0.08540128668042753,
          -0.06798980182326339,
          -0.053729851426001715,
          -0.04013411792249707,
          -0.03074338967853718,
          -0.021307655687381556,
          -0.011272318769775556,
          0.0019460296132416425,
          0.016077153485388834,
          0.030763968945914245,
          0.04456315725171685,
          0.05723701233238978,
          0.0713237768386774,
          0.08659882662592759,
          0.09797818238824371,
          0.10820762536617239,
          0.11827878818789472,
          0.12797404680284638,
          0.13792666259169523,
          0.1456627569360051,
          0.1570617086005966,
          0.16928455752526742,
          0.18069533523060965,
          0.19276481038862764,
          0.2041993307283945,
          0.2141785223073943,
          0.2189952424249595,
          0.22385683398094686,
          0.2251757819713657,
          0.22483438574179723,
          0.22471256997697842,
          0.2248325335403667,
          0.22365958556340887,
          0.2198089347630971,
          0.21557959517868988,
          0.21101474136628132,
          0.20682908878729198,
          0.20222272367116303,
          0.1999331511747714,
          0.19612553848817468,
          0.1945678807975293,
          0.18794506031544536,
          0.17939470852147066,
          0.16996899662681195,
          0.1605145653148779,
          0.15166616338458935,
          0.14427699679342595,
          0.1401884174488008,
          0.13580013772010985,
          0.13181029517018975,
          0.12947987695596389,
          0.12664221117739502,
          0.11580700350688138,
          0.10629288877776855,
          0.0973023078682836,
          0.0876388034337397,
          0.07842914943897979,
          0.06870484382069143,
          0.05796854679826037,
          0.04501354340652571
         ],
         "yaxis": "y"
        }
       ],
       "layout": {
        "coloraxis": {
         "colorbar": {
          "title": {
           "text": "nominal_yield_scores"
          }
         },
         "colorscale": [
          [
           0,
           "#0d0887"
          ],
          [
           0.1111111111111111,
           "#46039f"
          ],
          [
           0.2222222222222222,
           "#7201a8"
          ],
          [
           0.3333333333333333,
           "#9c179e"
          ],
          [
           0.4444444444444444,
           "#bd3786"
          ],
          [
           0.5555555555555556,
           "#d8576b"
          ],
          [
           0.6666666666666666,
           "#ed7953"
          ],
          [
           0.7777777777777778,
           "#fb9f3a"
          ],
          [
           0.8888888888888888,
           "#fdca26"
          ],
          [
           1,
           "#f0f921"
          ]
         ]
        },
        "legend": {
         "tracegroupgap": 0
        },
        "margin": {
         "t": 60
        },
        "template": {
         "data": {
          "bar": [
           {
            "error_x": {
             "color": "#2a3f5f"
            },
            "error_y": {
             "color": "#2a3f5f"
            },
            "marker": {
             "line": {
              "color": "#E5ECF6",
              "width": 0.5
             },
             "pattern": {
              "fillmode": "overlay",
              "size": 10,
              "solidity": 0.2
             }
            },
            "type": "bar"
           }
          ],
          "barpolar": [
           {
            "marker": {
             "line": {
              "color": "#E5ECF6",
              "width": 0.5
             },
             "pattern": {
              "fillmode": "overlay",
              "size": 10,
              "solidity": 0.2
             }
            },
            "type": "barpolar"
           }
          ],
          "carpet": [
           {
            "aaxis": {
             "endlinecolor": "#2a3f5f",
             "gridcolor": "white",
             "linecolor": "white",
             "minorgridcolor": "white",
             "startlinecolor": "#2a3f5f"
            },
            "baxis": {
             "endlinecolor": "#2a3f5f",
             "gridcolor": "white",
             "linecolor": "white",
             "minorgridcolor": "white",
             "startlinecolor": "#2a3f5f"
            },
            "type": "carpet"
           }
          ],
          "choropleth": [
           {
            "colorbar": {
             "outlinewidth": 0,
             "ticks": ""
            },
            "type": "choropleth"
           }
          ],
          "contour": [
           {
            "colorbar": {
             "outlinewidth": 0,
             "ticks": ""
            },
            "colorscale": [
             [
              0,
              "#0d0887"
             ],
             [
              0.1111111111111111,
              "#46039f"
             ],
             [
              0.2222222222222222,
              "#7201a8"
             ],
             [
              0.3333333333333333,
              "#9c179e"
             ],
             [
              0.4444444444444444,
              "#bd3786"
             ],
             [
              0.5555555555555556,
              "#d8576b"
             ],
             [
              0.6666666666666666,
              "#ed7953"
             ],
             [
              0.7777777777777778,
              "#fb9f3a"
             ],
             [
              0.8888888888888888,
              "#fdca26"
             ],
             [
              1,
              "#f0f921"
             ]
            ],
            "type": "contour"
           }
          ],
          "contourcarpet": [
           {
            "colorbar": {
             "outlinewidth": 0,
             "ticks": ""
            },
            "type": "contourcarpet"
           }
          ],
          "heatmap": [
           {
            "colorbar": {
             "outlinewidth": 0,
             "ticks": ""
            },
            "colorscale": [
             [
              0,
              "#0d0887"
             ],
             [
              0.1111111111111111,
              "#46039f"
             ],
             [
              0.2222222222222222,
              "#7201a8"
             ],
             [
              0.3333333333333333,
              "#9c179e"
             ],
             [
              0.4444444444444444,
              "#bd3786"
             ],
             [
              0.5555555555555556,
              "#d8576b"
             ],
             [
              0.6666666666666666,
              "#ed7953"
             ],
             [
              0.7777777777777778,
              "#fb9f3a"
             ],
             [
              0.8888888888888888,
              "#fdca26"
             ],
             [
              1,
              "#f0f921"
             ]
            ],
            "type": "heatmap"
           }
          ],
          "heatmapgl": [
           {
            "colorbar": {
             "outlinewidth": 0,
             "ticks": ""
            },
            "colorscale": [
             [
              0,
              "#0d0887"
             ],
             [
              0.1111111111111111,
              "#46039f"
             ],
             [
              0.2222222222222222,
              "#7201a8"
             ],
             [
              0.3333333333333333,
              "#9c179e"
             ],
             [
              0.4444444444444444,
              "#bd3786"
             ],
             [
              0.5555555555555556,
              "#d8576b"
             ],
             [
              0.6666666666666666,
              "#ed7953"
             ],
             [
              0.7777777777777778,
              "#fb9f3a"
             ],
             [
              0.8888888888888888,
              "#fdca26"
             ],
             [
              1,
              "#f0f921"
             ]
            ],
            "type": "heatmapgl"
           }
          ],
          "histogram": [
           {
            "marker": {
             "pattern": {
              "fillmode": "overlay",
              "size": 10,
              "solidity": 0.2
             }
            },
            "type": "histogram"
           }
          ],
          "histogram2d": [
           {
            "colorbar": {
             "outlinewidth": 0,
             "ticks": ""
            },
            "colorscale": [
             [
              0,
              "#0d0887"
             ],
             [
              0.1111111111111111,
              "#46039f"
             ],
             [
              0.2222222222222222,
              "#7201a8"
             ],
             [
              0.3333333333333333,
              "#9c179e"
             ],
             [
              0.4444444444444444,
              "#bd3786"
             ],
             [
              0.5555555555555556,
              "#d8576b"
             ],
             [
              0.6666666666666666,
              "#ed7953"
             ],
             [
              0.7777777777777778,
              "#fb9f3a"
             ],
             [
              0.8888888888888888,
              "#fdca26"
             ],
             [
              1,
              "#f0f921"
             ]
            ],
            "type": "histogram2d"
           }
          ],
          "histogram2dcontour": [
           {
            "colorbar": {
             "outlinewidth": 0,
             "ticks": ""
            },
            "colorscale": [
             [
              0,
              "#0d0887"
             ],
             [
              0.1111111111111111,
              "#46039f"
             ],
             [
              0.2222222222222222,
              "#7201a8"
             ],
             [
              0.3333333333333333,
              "#9c179e"
             ],
             [
              0.4444444444444444,
              "#bd3786"
             ],
             [
              0.5555555555555556,
              "#d8576b"
             ],
             [
              0.6666666666666666,
              "#ed7953"
             ],
             [
              0.7777777777777778,
              "#fb9f3a"
             ],
             [
              0.8888888888888888,
              "#fdca26"
             ],
             [
              1,
              "#f0f921"
             ]
            ],
            "type": "histogram2dcontour"
           }
          ],
          "mesh3d": [
           {
            "colorbar": {
             "outlinewidth": 0,
             "ticks": ""
            },
            "type": "mesh3d"
           }
          ],
          "parcoords": [
           {
            "line": {
             "colorbar": {
              "outlinewidth": 0,
              "ticks": ""
             }
            },
            "type": "parcoords"
           }
          ],
          "pie": [
           {
            "automargin": true,
            "type": "pie"
           }
          ],
          "scatter": [
           {
            "marker": {
             "colorbar": {
              "outlinewidth": 0,
              "ticks": ""
             }
            },
            "type": "scatter"
           }
          ],
          "scatter3d": [
           {
            "line": {
             "colorbar": {
              "outlinewidth": 0,
              "ticks": ""
             }
            },
            "marker": {
             "colorbar": {
              "outlinewidth": 0,
              "ticks": ""
             }
            },
            "type": "scatter3d"
           }
          ],
          "scattercarpet": [
           {
            "marker": {
             "colorbar": {
              "outlinewidth": 0,
              "ticks": ""
             }
            },
            "type": "scattercarpet"
           }
          ],
          "scattergeo": [
           {
            "marker": {
             "colorbar": {
              "outlinewidth": 0,
              "ticks": ""
             }
            },
            "type": "scattergeo"
           }
          ],
          "scattergl": [
           {
            "marker": {
             "colorbar": {
              "outlinewidth": 0,
              "ticks": ""
             }
            },
            "type": "scattergl"
           }
          ],
          "scattermapbox": [
           {
            "marker": {
             "colorbar": {
              "outlinewidth": 0,
              "ticks": ""
             }
            },
            "type": "scattermapbox"
           }
          ],
          "scatterpolar": [
           {
            "marker": {
             "colorbar": {
              "outlinewidth": 0,
              "ticks": ""
             }
            },
            "type": "scatterpolar"
           }
          ],
          "scatterpolargl": [
           {
            "marker": {
             "colorbar": {
              "outlinewidth": 0,
              "ticks": ""
             }
            },
            "type": "scatterpolargl"
           }
          ],
          "scatterternary": [
           {
            "marker": {
             "colorbar": {
              "outlinewidth": 0,
              "ticks": ""
             }
            },
            "type": "scatterternary"
           }
          ],
          "surface": [
           {
            "colorbar": {
             "outlinewidth": 0,
             "ticks": ""
            },
            "colorscale": [
             [
              0,
              "#0d0887"
             ],
             [
              0.1111111111111111,
              "#46039f"
             ],
             [
              0.2222222222222222,
              "#7201a8"
             ],
             [
              0.3333333333333333,
              "#9c179e"
             ],
             [
              0.4444444444444444,
              "#bd3786"
             ],
             [
              0.5555555555555556,
              "#d8576b"
             ],
             [
              0.6666666666666666,
              "#ed7953"
             ],
             [
              0.7777777777777778,
              "#fb9f3a"
             ],
             [
              0.8888888888888888,
              "#fdca26"
             ],
             [
              1,
              "#f0f921"
             ]
            ],
            "type": "surface"
           }
          ],
          "table": [
           {
            "cells": {
             "fill": {
              "color": "#EBF0F8"
             },
             "line": {
              "color": "white"
             }
            },
            "header": {
             "fill": {
              "color": "#C8D4E3"
             },
             "line": {
              "color": "white"
             }
            },
            "type": "table"
           }
          ]
         },
         "layout": {
          "annotationdefaults": {
           "arrowcolor": "#2a3f5f",
           "arrowhead": 0,
           "arrowwidth": 1
          },
          "autotypenumbers": "strict",
          "coloraxis": {
           "colorbar": {
            "outlinewidth": 0,
            "ticks": ""
           }
          },
          "colorscale": {
           "diverging": [
            [
             0,
             "#8e0152"
            ],
            [
             0.1,
             "#c51b7d"
            ],
            [
             0.2,
             "#de77ae"
            ],
            [
             0.3,
             "#f1b6da"
            ],
            [
             0.4,
             "#fde0ef"
            ],
            [
             0.5,
             "#f7f7f7"
            ],
            [
             0.6,
             "#e6f5d0"
            ],
            [
             0.7,
             "#b8e186"
            ],
            [
             0.8,
             "#7fbc41"
            ],
            [
             0.9,
             "#4d9221"
            ],
            [
             1,
             "#276419"
            ]
           ],
           "sequential": [
            [
             0,
             "#0d0887"
            ],
            [
             0.1111111111111111,
             "#46039f"
            ],
            [
             0.2222222222222222,
             "#7201a8"
            ],
            [
             0.3333333333333333,
             "#9c179e"
            ],
            [
             0.4444444444444444,
             "#bd3786"
            ],
            [
             0.5555555555555556,
             "#d8576b"
            ],
            [
             0.6666666666666666,
             "#ed7953"
            ],
            [
             0.7777777777777778,
             "#fb9f3a"
            ],
            [
             0.8888888888888888,
             "#fdca26"
            ],
            [
             1,
             "#f0f921"
            ]
           ],
           "sequentialminus": [
            [
             0,
             "#0d0887"
            ],
            [
             0.1111111111111111,
             "#46039f"
            ],
            [
             0.2222222222222222,
             "#7201a8"
            ],
            [
             0.3333333333333333,
             "#9c179e"
            ],
            [
             0.4444444444444444,
             "#bd3786"
            ],
            [
             0.5555555555555556,
             "#d8576b"
            ],
            [
             0.6666666666666666,
             "#ed7953"
            ],
            [
             0.7777777777777778,
             "#fb9f3a"
            ],
            [
             0.8888888888888888,
             "#fdca26"
            ],
            [
             1,
             "#f0f921"
            ]
           ]
          },
          "colorway": [
           "#636efa",
           "#EF553B",
           "#00cc96",
           "#ab63fa",
           "#FFA15A",
           "#19d3f3",
           "#FF6692",
           "#B6E880",
           "#FF97FF",
           "#FECB52"
          ],
          "font": {
           "color": "#2a3f5f"
          },
          "geo": {
           "bgcolor": "white",
           "lakecolor": "white",
           "landcolor": "#E5ECF6",
           "showlakes": true,
           "showland": true,
           "subunitcolor": "white"
          },
          "hoverlabel": {
           "align": "left"
          },
          "hovermode": "closest",
          "mapbox": {
           "style": "light"
          },
          "paper_bgcolor": "white",
          "plot_bgcolor": "#E5ECF6",
          "polar": {
           "angularaxis": {
            "gridcolor": "white",
            "linecolor": "white",
            "ticks": ""
           },
           "bgcolor": "#E5ECF6",
           "radialaxis": {
            "gridcolor": "white",
            "linecolor": "white",
            "ticks": ""
           }
          },
          "scene": {
           "xaxis": {
            "backgroundcolor": "#E5ECF6",
            "gridcolor": "white",
            "gridwidth": 2,
            "linecolor": "white",
            "showbackground": true,
            "ticks": "",
            "zerolinecolor": "white"
           },
           "yaxis": {
            "backgroundcolor": "#E5ECF6",
            "gridcolor": "white",
            "gridwidth": 2,
            "linecolor": "white",
            "showbackground": true,
            "ticks": "",
            "zerolinecolor": "white"
           },
           "zaxis": {
            "backgroundcolor": "#E5ECF6",
            "gridcolor": "white",
            "gridwidth": 2,
            "linecolor": "white",
            "showbackground": true,
            "ticks": "",
            "zerolinecolor": "white"
           }
          },
          "shapedefaults": {
           "line": {
            "color": "#2a3f5f"
           }
          },
          "ternary": {
           "aaxis": {
            "gridcolor": "white",
            "linecolor": "white",
            "ticks": ""
           },
           "baxis": {
            "gridcolor": "white",
            "linecolor": "white",
            "ticks": ""
           },
           "bgcolor": "#E5ECF6",
           "caxis": {
            "gridcolor": "white",
            "linecolor": "white",
            "ticks": ""
           }
          },
          "title": {
           "x": 0.05
          },
          "xaxis": {
           "automargin": true,
           "gridcolor": "white",
           "linecolor": "white",
           "ticks": "",
           "title": {
            "standoff": 15
           },
           "zerolinecolor": "white",
           "zerolinewidth": 2
          },
          "yaxis": {
           "automargin": true,
           "gridcolor": "white",
           "linecolor": "white",
           "ticks": "",
           "title": {
            "standoff": 15
           },
           "zerolinecolor": "white",
           "zerolinewidth": 2
          }
         }
        },
        "xaxis": {
         "anchor": "y",
         "domain": [
          0,
          1
         ],
         "title": {
          "text": "difference"
         }
        },
        "yaxis": {
         "anchor": "x",
         "domain": [
          0,
          1
         ],
         "title": {
          "text": "Telecomm"
         }
        }
       }
      }
     },
     "metadata": {},
     "output_type": "display_data"
    }
   ],
   "source": [
    "import plotly.express as px\n",
    "\n",
    "#bruh.plot.scatter(\"difference\", \"Energy\")\n",
    "\n",
    "# pd.to_datetime(bruh.index).year\n",
    "px.scatter(bruh, x = 'difference', y = 'Telecomm', color = 'nominal_yield_scores', hover_data=[bruh.index])\n",
    "\n",
    "\n"
   ]
  },
  {
   "cell_type": "code",
   "execution_count": 86,
   "metadata": {},
   "outputs": [
    {
     "data": {
      "text/plain": [
       "<AxesSubplot:xlabel='difference', ylabel='Telecomm'>"
      ]
     },
     "execution_count": 86,
     "metadata": {},
     "output_type": "execute_result"
    },
    {
     "data": {
      "image/png": "[encoded data removed]",
      "text/plain": [
       "<Figure size 432x288 with 1 Axes>"
      ]
     },
     "metadata": {
      "needs_background": "light"
     },
     "output_type": "display_data"
    },
    {
     "data": {
      "image/png": "[encoded data removed]",
      "text/plain": [
       "<Figure size 432x288 with 1 Axes>"
      ]
     },
     "metadata": {
      "needs_background": "light"
     },
     "output_type": "display_data"
    }
   ],
   "source": [
    "\n",
    "\n",
    "avg_dist = pd.DataFrame({i : combo_df.loc[ combo_df.distance == i].mean() for i in combo_df.distance.sort_values().unique()})\n",
    "avg_dist = avg_dist.T\n",
    "\n",
    "avg_diff = pd.DataFrame({i : combo_df.loc[ combo_df.difference == i].mean() for i in combo_df.difference.sort_values().unique()})\n",
    "avg_diff = avg_diff.T\n",
    "\n",
    "mean_diff = pd.DataFrame({i : combo_df.loc[ combo_df.meann == i].mean() for i in combo_df.meann.sort_values().unique()})\n",
    "mean_diff = mean_diff.T\n",
    "\n",
    "#plt.bar(avg_diff.index, avg_diff['Utilities'])\n",
    "#plt.xlabel(\"Difference Between Real Yield Score and Yield Curve Score\")\n",
    "\n",
    "\n",
    "avg_diff[\"Telecomm\"].plot.bar()\n",
    "\n",
    "combo_df.plot.scatter(\"difference\", 'Telecomm')\n"
   ]
  },
  {
   "cell_type": "code",
   "execution_count": 91,
   "metadata": {},
   "outputs": [
    {
     "data": {
      "text/plain": [
       "<AxesSubplot:>"
      ]
     },
     "execution_count": 91,
     "metadata": {},
     "output_type": "execute_result"
    },
    {
     "data": {
      "image/png": "[encoded data removed]",
      "text/plain": [
       "<Figure size 432x288 with 1 Axes>"
      ]
     },
     "metadata": {
      "needs_background": "light"
     },
     "output_type": "display_data"
    }
   ],
   "source": [
    "\n",
    "\n",
    "combo_df['Technology'].plot()\n"
   ]
  },
  {
   "cell_type": "code",
   "execution_count": null,
   "metadata": {},
   "outputs": [],
   "source": [
    "\n",
    "\n",
    "\n",
    "\n",
    "\n"
   ]
  }
 ],
 "metadata": {
  "kernelspec": {
   "display_name": "Python 3.8.12 ('base')",
   "language": "python",
   "name": "python3"
  },
  "language_info": {
   "codemirror_mode": {
    "name": "ipython",
    "version": 3
   },
   "file_extension": ".py",
   "mimetype": "text/x-python",
   "name": "python",
   "nbconvert_exporter": "python",
   "pygments_lexer": "ipython3",
   "version": "3.8.12"
  },
  "orig_nbformat": 4,
  "vscode": {
   "interpreter": {
    "hash": "c7358e8e4aaec92e9a8c511ae545149d1e1464ce63ac675c18b70b466c751137"
   }
  }
 },
 "nbformat": 4,
 "nbformat_minor": 2
}
