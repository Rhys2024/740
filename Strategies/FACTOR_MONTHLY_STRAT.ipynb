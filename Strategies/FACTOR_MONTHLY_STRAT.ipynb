{
 "cells": [
  {
   "cell_type": "code",
   "execution_count": 1,
   "metadata": {},
   "outputs": [],
   "source": [
    "\"\"\"\n",
    "\n",
    "MONTHLY DATA NOW\n",
    "\n",
    "\"\"\"\n",
    "\n",
    "from sklearn.ensemble import RandomForestClassifier\n",
    "from sklearn.metrics import accuracy_score\n",
    "import pandas as pd\n",
    "import yfinance as yf\n",
    "import fredapi as fa\n",
    "from datetime import date, timedelta\n",
    "from Modules.Exposure_Report import Exposure\n",
    "import numpy as np\n",
    "import matplotlib.pyplot as plt\n",
    "import Modules.Useful_Functions as u\n",
    "from statsmodels.tsa.stattools import adfuller\n",
    "import Modules.DataHub as da\n",
    "\n",
    "# sectors_and_rates\n",
    "cutoff = .7\n",
    "\n",
    "#factor_df = pd.read_csv(\"2006.csv\", index_col=\"Date\")\n",
    "\n",
    "# .drop(columns = [\"MOMENTUM\"])\n",
    "#factor_df = pd.read_csv(\"regular_factors_and_rates.csv\", index_col = \"Date\").drop(columns = [\"MOMENTUM\"])\n",
    "factor_df = da.get_Dataset('factor', ['real_yield', 'yield_curve'])\n",
    "\n",
    "train_df = factor_df[:int(len(factor_df)*cutoff)]\n",
    "test_df = factor_df[int(len(factor_df)*cutoff):]\n",
    "\n",
    "forward = 30\n",
    "\n",
    "exposure = Exposure(train_df, 252, forward, ['real_yield', 'yield_curve'])\n",
    "for_scores = Exposure(factor_df, 252, forward, ['real_yield', 'yield_curve'])\n",
    "\n",
    "ry_scores_test_monthly = for_scores.monthly_scores['real_yield']\n",
    "yc_scores_test_monthly = for_scores.monthly_scores['yield_curve']\n",
    "ry_scores_test_monthly = ry_scores_test_monthly.loc[ ry_scores_test_monthly.index > train_df.index[-1]]\n",
    "yc_scores_test_monthly = yc_scores_test_monthly.loc[ yc_scores_test_monthly.index > train_df.index[-1]]\n",
    "\n",
    "train_results_df = exposure.forward_returns_monthly.dropna().copy()\n",
    "update_df = exposure.forward_returns_monthly.dropna().copy()\n",
    "\n",
    "\n",
    "#update_df\n",
    "\n",
    "#u.current_rates('m')\n"
   ]
  },
  {
   "cell_type": "code",
   "execution_count": 2,
   "metadata": {},
   "outputs": [
    {
     "data": {
      "text/plain": [
       "'/Users/rhys/Desktop/740/Reference_Data/macro_data.csv'"
      ]
     },
     "execution_count": 2,
     "metadata": {},
     "output_type": "execute_result"
    }
   ],
   "source": [
    "\n",
    "\n",
    "update_df\n"
   ]
  },
  {
   "cell_type": "code",
   "execution_count": 2,
   "metadata": {},
   "outputs": [],
   "source": [
    "\n",
    "def closest_combos(combo, in_index = False):\n",
    "\n",
    "    assert isinstance(combo, tuple)\n",
    "    \n",
    "    min_error = 100\n",
    "    errors = {}\n",
    "\n",
    "    for rates in train_results_df.index:\n",
    "        \n",
    "        ry_error = abs(combo[0] - rates[0])\n",
    "        yc_error = abs(combo[1] - rates[1])\n",
    "        error = ry_error + yc_error\n",
    "        \n",
    "        \n",
    "        errors[rates] = error\n",
    "        \n",
    "        if error <= min_error and error > 0:\n",
    "            min_error = error\n",
    "    \n",
    "    mins = list(filter(lambda x: errors[x]==min_error, errors))\n",
    "    \n",
    "    if in_index:\n",
    "        mins.append(combo)\n",
    "    \n",
    "    return mins\n",
    "\n",
    "\n",
    "ok = closest_combos((1,1), True)"
   ]
  },
  {
   "cell_type": "code",
   "execution_count": 12,
   "metadata": {},
   "outputs": [],
   "source": [
    "\n",
    "predicted_best_sector = []\n",
    "exp_ret = []\n",
    "scores = []\n",
    "top_n_sectors = 1\n",
    "\n",
    "for num, (ry, yc) in enumerate(zip(ry_scores_test_monthly, ry_scores_test_monthly)):\n",
    "    \n",
    "    if (ry, yc) in train_results_df.index:\n",
    "        combos = closest_combos((ry, yc), True)\n",
    "    else:\n",
    "        combos = closest_combos((ry, yc))\n",
    "        \n",
    "    top_secs = train_results_df.loc[combos].mean().sort_values()[-top_n_sectors:]\n",
    "        \n",
    "    predicted_best_sector.append(top_secs.index.to_list())\n",
    "    exp_ret.append(top_secs.mean())\n",
    "    scores.append((ry,yc))\n",
    "    \n",
    "    "
   ]
  },
  {
   "cell_type": "code",
   "execution_count": 13,
   "metadata": {},
   "outputs": [],
   "source": [
    "\n",
    "\n",
    "big_df = pd.DataFrame(index = ry_scores_test_monthly.index)\n",
    "big_df['scores'] = scores\n",
    "big_df['exp_rets_predicted'] = exp_ret\n",
    "big_df['pred_top_secs'] = predicted_best_sector\n",
    "\n"
   ]
  },
  {
   "cell_type": "code",
   "execution_count": 14,
   "metadata": {},
   "outputs": [],
   "source": [
    "\n",
    "\n",
    "actual_results_exposure = Rate_Exposures(test_df, 252, forward, ['Real Yield', 'Yield Curve'])\n",
    "actual_returns = actual_results_exposure.forward_returns_monthly.iloc[:,:-2]\n",
    "actual_returns = actual_returns.loc[ (actual_returns.index >= big_df.index[0]) & (actual_returns.index <= big_df.index[-1])]\n",
    "\n"
   ]
  },
  {
   "cell_type": "code",
   "execution_count": 15,
   "metadata": {},
   "outputs": [],
   "source": [
    "\n",
    "\n",
    "actual_secs = []\n",
    "actual_ret = []\n",
    "predicted_sector_performance = []\n",
    "correct_sector_performance = []\n",
    "\n",
    "for d in actual_returns.index:\n",
    "\n",
    "    top_actual_secs = actual_returns.loc[str(d)].sort_values()\n",
    "    actual_secs.append(top_actual_secs.index[-top_n_sectors:].to_list())\n",
    "    \n",
    "    actual_ret.append(top_actual_secs[-top_n_sectors:].mean())\n",
    "    predicted_sector_performance.append(actual_returns.loc[str(d)][list(big_df['pred_top_secs'].loc[str(d)])].mean())\n",
    "\n",
    "actual_secs = pd.Series(actual_secs, index = actual_returns.index)\n",
    "actual_ret = pd.Series(actual_ret, index = actual_returns.index)\n",
    "\n",
    "big_df['actual_top_secs'] = actual_secs\n",
    "big_df['actual_rets'] = actual_ret\n",
    "\n",
    "big_df = big_df.dropna()\n"
   ]
  },
  {
   "cell_type": "code",
   "execution_count": 16,
   "metadata": {},
   "outputs": [],
   "source": [
    "\n",
    "\n",
    "correct_sectors = []\n",
    "mean_squared_error_return = []\n",
    "return_error_regular = []\n",
    "\n",
    "\n",
    "for pred, act in zip(big_df['pred_top_secs'], big_df['actual_top_secs']):\n",
    "    sect = set(pred).intersection(set(act))\n",
    "    correct_sectors.append(len(sect))\n",
    "    \n",
    "\n",
    "for pred, act in zip(big_df['exp_rets_predicted'], big_df['actual_rets']):\n",
    "    \n",
    "    mean_squared_error_return.append((pred-act)**2)\n",
    "    return_error_regular.append(pred-act) \n",
    "    \n",
    "big_df['correctly_chosen_sectors'] = correct_sectors\n",
    "#big_df['correctly_chosen_sectors_above_market'] = correct_sectors_above_market\n",
    "big_df['predicted_sector_performance'] = predicted_sector_performance\n",
    "#big_df['correct_sector_performance'] = actual_results['actual_rets']\n",
    "big_df['mean_squared_error_return_prediction'] = mean_squared_error_return\n",
    "big_df['return_error_regular'] = return_error_regular\n",
    "\n",
    "big_df = big_df.dropna()"
   ]
  },
  {
   "cell_type": "code",
   "execution_count": 19,
   "metadata": {},
   "outputs": [
    {
     "data": {
      "text/plain": [
       "2020-03   -0.585818\n",
       "2020-04   -0.560830\n",
       "2020-07   -0.294533\n",
       "2019-11   -0.236394\n",
       "2018-10   -0.150986\n",
       "2019-10   -0.115462\n",
       "2020-11   -0.080216\n",
       "2020-08   -0.048852\n",
       "2019-12   -0.013976\n",
       "2019-08   -0.012933\n",
       "2019-09    0.001410\n",
       "2019-02    0.013911\n",
       "2020-06    0.015043\n",
       "2021-02    0.015100\n",
       "2019-07    0.020637\n",
       "2019-06    0.040310\n",
       "2018-12    0.050063\n",
       "2019-01    0.072876\n",
       "2019-04    0.131160\n",
       "2018-11    0.134363\n",
       "2019-05    0.184186\n",
       "2018-08    0.193350\n",
       "2018-09    0.208379\n",
       "2019-03    0.283205\n",
       "2020-02    0.287279\n",
       "2020-09    0.375990\n",
       "2020-10    0.382405\n",
       "2020-12    0.396638\n",
       "2020-01    0.428848\n",
       "2020-05    0.435553\n",
       "2021-01    0.462047\n",
       "Freq: M, Name: predicted_sector_performance, dtype: float64"
      ]
     },
     "execution_count": 19,
     "metadata": {},
     "output_type": "execute_result"
    }
   ],
   "source": [
    "\n",
    "\n",
    "#big_df.predicted_sector_performance.loc[big_df.correctly_chosen_sectors >= 0].hist()\n",
    "\n",
    "#big_df.predicted_sector_performance.hist()\n",
    "#big_df.correctly_chosen_sectors.plot()\n",
    "\n",
    "\n",
    "big_df.predicted_sector_performance.sort_values()\n",
    "\n",
    "\n"
   ]
  }
 ],
 "metadata": {
  "kernelspec": {
   "display_name": "Python 3.10.1 64-bit",
   "language": "python",
   "name": "python3"
  },
  "language_info": {
   "codemirror_mode": {
    "name": "ipython",
    "version": 3
   },
   "file_extension": ".py",
   "mimetype": "text/x-python",
   "name": "python",
   "nbconvert_exporter": "python",
   "pygments_lexer": "ipython3",
   "version": "3.9.13"
  },
  "orig_nbformat": 4,
  "vscode": {
   "interpreter": {
    "hash": "0bb3cc344a39c5d156fcdd5f6517bab7a31e5098299ccc8953977c2a4c1e9c67"
   }
  }
 },
 "nbformat": 4,
 "nbformat_minor": 2
}
