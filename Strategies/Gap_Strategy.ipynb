{
 "cells": [
  {
   "cell_type": "code",
   "execution_count": 1,
   "metadata": {},
   "outputs": [],
   "source": [
    "from sklearn.ensemble import RandomForestClassifier\n",
    "from sklearn.metrics import accuracy_score\n",
    "import pandas as pd\n",
    "import yfinance as yf\n",
    "from datetime import date, timedelta\n",
    "from Modules.Exposure_Report import Exposure\n",
    "import numpy as np\n",
    "import matplotlib.pyplot as plt\n",
    "import Modules.Useful_Functions as u\n",
    "from statsmodels.tsa.stattools import adfuller\n",
    "import Modules.DataHub as da\n",
    "\n"
   ]
  },
  {
   "cell_type": "code",
   "execution_count": 105,
   "metadata": {},
   "outputs": [],
   "source": [
    "import yfinance as yf\n",
    "\n",
    "\n",
    "\n",
    "data = yf.download(['AMZN'], '2001-01-01', '2022-06-20', progress = False)\n",
    "data.to_csv(\"semis.csv\")\n",
    "\n"
   ]
  },
  {
   "cell_type": "code",
   "execution_count": 120,
   "metadata": {},
   "outputs": [],
   "source": [
    "from pyalgotrade import strategy\n",
    "from pyalgotrade.barfeed import yahoofeed\n",
    "from pyalgotrade.stratanalyzer import returns, drawdown, trades\n",
    "from pyalgotrade import plotter\n",
    "\n",
    "class GapStrategy(strategy.BacktestingStrategy):\n",
    "    \n",
    "    def __init__(self, feed, instrument):\n",
    "        super(GapStrategy, self).__init__(feed)\n",
    "        self.instrument = instrument\n",
    "        self.setUseAdjustedValues(True)\n",
    "        self.position = 0\n",
    "        self.previous_bar = 0.0\n",
    "    \n",
    "    def on_enter(self, position):\n",
    "        execInfo = position.getEntryOrder().getExecutionInfo()\n",
    "        self.info(f\"========= Short at {execInfo.getLastPrice()} {execInfo.getQuantitiy()} =========\")\n",
    "        \n",
    "    def onBars(self, bars):\n",
    "        \n",
    "        current_bar = bars[self.instrument]\n",
    "        open_price = current_bar.getOpen()\n",
    "        \n",
    "        if self.position == 0:\n",
    "            broker = self.getBroker()\n",
    "            cash = broker.getCash()\n",
    "            \n",
    "            \n",
    "            if self.previous_bar != 0.0 and (open_price / self.previous_bar) - 1 < -.07:\n",
    "                quantity = cash / open_price\n",
    "                self.position = self.enterShort(self.instrument, quantity)\n",
    "                self.on_enter(self.position)\n",
    "                self.info(f\"shorting at {current_bar.getOpen()}\")\n",
    "                self.bought_at = current_bar.getClose()\n",
    "            self.previous_bar = current_bar.getClose()\n",
    "            \n",
    "        elif self.position != 0 and current_bar.getClose() < self.bought_at:\n",
    "            self.info(f\"buying at {current_bar.getClose()}\")\n",
    "            self.position.exitMarket()\n",
    "            self.position = 0\n",
    "\n",
    "        "
   ]
  },
  {
   "cell_type": "code",
   "execution_count": 28,
   "metadata": {},
   "outputs": [],
   "source": [
    "\n"
   ]
  },
  {
   "cell_type": "code",
   "execution_count": 121,
   "metadata": {},
   "outputs": [
    {
     "name": "stderr",
     "output_type": "stream",
     "text": [
      "2001-03-12 00:00:00 strategy [INFO] shorting at 0.5687500238418579\n",
      "2001-03-19 00:00:00 strategy [INFO] buying at 0.5249999761581421\n",
      "2001-07-24 00:00:00 strategy [INFO] shorting at 0.6809999942779541\n",
      "2001-07-25 00:00:00 strategy [INFO] buying at 0.5755000114440918\n",
      "2001-09-17 00:00:00 strategy [INFO] shorting at 0.36500000953674316\n",
      "2001-09-18 00:00:00 strategy [INFO] buying at 0.3644999861717224\n",
      "2001-09-21 00:00:00 strategy [INFO] shorting at 0.3474999964237213\n",
      "2001-09-24 00:00:00 strategy [INFO] buying at 0.37299999594688416\n",
      "2001-10-24 00:00:00 strategy [INFO] shorting at 0.4025000035762787\n",
      "2001-10-26 00:00:00 strategy [INFO] buying at 0.3779999911785126\n",
      "2002-03-06 00:00:00 strategy [INFO] shorting at 0.7409999966621399\n",
      "2002-03-07 00:00:00 strategy [INFO] buying at 0.781000018119812\n",
      "2002-07-24 00:00:00 strategy [INFO] shorting at 0.6184999942779541\n",
      "2002-07-25 00:00:00 strategy [INFO] buying at 0.6244999766349792\n",
      "2002-07-26 00:00:00 strategy [INFO] shorting at 0.6359999775886536\n",
      "2002-08-05 00:00:00 strategy [INFO] buying at 0.6434999704360962\n",
      "2004-07-23 00:00:00 strategy [INFO] shorting at 2.123500108718872\n",
      "2004-07-26 00:00:00 strategy [INFO] buying at 1.9390000104904175\n",
      "2004-10-22 00:00:00 strategy [INFO] shorting at 1.8109999895095825\n",
      "2004-10-25 00:00:00 strategy [INFO] buying at 1.6985000371932983\n",
      "2005-02-03 00:00:00 strategy [INFO] shorting at 1.7450000047683716\n",
      "2005-02-04 00:00:00 strategy [INFO] buying at 1.7860000133514404\n",
      "2005-10-26 00:00:00 strategy [INFO] shorting at 2.049999952316284\n",
      "2005-10-27 00:00:00 strategy [INFO] buying at 1.9529999494552612\n",
      "2006-02-03 00:00:00 strategy [INFO] shorting at 1.8849999904632568\n",
      "2006-02-06 00:00:00 strategy [INFO] buying at 1.8975000381469727\n",
      "2006-07-26 00:00:00 strategy [INFO] shorting at 1.437999963760376\n",
      "2006-08-02 00:00:00 strategy [INFO] buying at 1.3044999837875366\n",
      "2007-10-24 00:00:00 strategy [INFO] shorting at 4.543499946594238\n",
      "2007-10-25 00:00:00 strategy [INFO] buying at 4.4105000495910645\n",
      "2008-01-22 00:00:00 strategy [INFO] shorting at 3.678999900817871\n",
      "2008-01-23 00:00:00 strategy [INFO] buying at 3.698499917984009\n",
      "2008-01-31 00:00:00 strategy [INFO] shorting at 3.445499897003174\n",
      "2008-02-01 00:00:00 strategy [INFO] buying at 3.7314999103546143\n",
      "2008-10-23 00:00:00 strategy [INFO] shorting at 2.1684999465942383\n",
      "2008-10-24 00:00:00 strategy [INFO] buying at 2.447999954223633\n",
      "2010-07-23 00:00:00 strategy [INFO] shorting at 5.296500205993652\n",
      "2010-07-26 00:00:00 strategy [INFO] buying at 5.920000076293945\n",
      "2011-01-28 00:00:00 strategy [INFO] shorting at 8.572500228881836\n",
      "2011-01-31 00:00:00 strategy [INFO] buying at 8.482000350952148\n"
     ]
    },
    {
     "name": "stdout",
     "output_type": "stream",
     "text": [
      "0.53125\n",
      "0.6029999852180481\n",
      "0.37450000643730164\n",
      "0.37400001287460327\n",
      "0.38199999928474426\n",
      "0.8165000081062317\n",
      "0.7049999833106995\n",
      "0.6464999914169312\n",
      "1.9989999532699585\n",
      "1.7300000190734863\n",
      "1.787500023841858\n",
      "1.9874999523162842\n",
      "1.9164999723434448\n",
      "1.312999963760376\n",
      "4.436500072479248\n",
      "3.9240000247955322\n",
      "3.884999990463257\n",
      "2.5160000324249268\n",
      "5.94350004196167\n",
      "8.557000160217285\n",
      "9.920000076293945"
     ]
    },
    {
     "name": "stderr",
     "output_type": "stream",
     "text": [
      "2011-10-26 00:00:00 strategy [INFO] shorting at 10.184499740600586\n",
      "2011-11-18 00:00:00 strategy [INFO] buying at 9.857000350952148\n",
      "2012-02-01 00:00:00 strategy [INFO] shorting at 8.690500259399414\n",
      "2012-02-23 00:00:00 strategy [INFO] buying at 8.944499969482422\n",
      "2014-01-31 00:00:00 strategy [INFO] shorting at 18.58799934387207\n",
      "2014-02-03 00:00:00 strategy [INFO] buying at 17.3075008392334\n",
      "2014-07-25 00:00:00 strategy [INFO] shorting at 15.864999771118164\n",
      "2014-07-28 00:00:00 strategy [INFO] buying at 16.02050018310547\n",
      "2014-10-24 00:00:00 strategy [INFO] shorting at 14.220000267028809\n",
      "2015-01-15 00:00:00 strategy [INFO] buying at 14.34749984741211\n",
      "2016-01-29 00:00:00 strategy [INFO] shorting at 28.599000930786133\n",
      "2016-02-01 00:00:00 strategy [INFO] buying at 28.74049949645996\n",
      "2018-10-26 00:00:00 strategy [INFO] shorting at 82.47949981689453\n",
      "2018-10-29 00:00:00 strategy [INFO] buying at 76.94400024414062\n",
      "2018-10-30 00:00:00 strategy [INFO] shorting at 74.30799865722656\n",
      "2018-11-19 00:00:00 strategy [INFO] buying at 75.614501953125\n",
      "2020-03-16 00:00:00 strategy [INFO] shorting at 82.07550048828125\n"
     ]
    },
    {
     "name": "stdout",
     "output_type": "stream",
     "text": [
      "\n",
      "8.972999572753906\n",
      "17.934499740600586\n",
      "16.20050048828125\n",
      "14.352999687194824\n",
      "29.350000381469727\n",
      "82.1405029296875\n",
      "76.52100372314453\n",
      "84.4574966430664\n"
     ]
    }
   ],
   "source": [
    "\n",
    "\n",
    "dfeed = yahoofeed.Feed()\n",
    "dfeed.addBarsFromCSV(\"semis\", \"semis.csv\")\n",
    "\n",
    "gap = GapStrategy(dfeed, \"semis\")\n",
    "\n",
    "gap.run()\n",
    "\n",
    "\n",
    "return_analysis = returns.Returns()\n",
    "trade_analysis = trades.Trades()\n",
    "drawdown_analysis = drawdown.DrawDown()\n",
    "\n",
    "gap.attachAnalyzer(return_analysis)\n",
    "gap.attachAnalyzer(trade_analysis)\n",
    "gap.attachAnalyzer(drawdown_analysis)\n",
    "\n"
   ]
  },
  {
   "cell_type": "code",
   "execution_count": 113,
   "metadata": {},
   "outputs": [
    {
     "data": {
      "text/plain": [
       "1.25679442988953"
      ]
     },
     "execution_count": 113,
     "metadata": {},
     "output_type": "execute_result"
    }
   ],
   "source": [
    "\n",
    "\n",
    "#return_analysis.getCumulativeReturns()[-1]\n",
    "\n",
    "\n",
    "\n",
    "gap.getResult()\n",
    "\n"
   ]
  },
  {
   "cell_type": "code",
   "execution_count": null,
   "metadata": {},
   "outputs": [],
   "source": []
  },
  {
   "cell_type": "code",
   "execution_count": 7,
   "metadata": {},
   "outputs": [
    {
     "data": {
      "text/plain": [
       "'c:\\\\Users\\\\Rhys Logan\\\\AppData\\\\Local\\\\Programs\\\\Python\\\\Python310\\\\python.exe'"
      ]
     },
     "execution_count": 7,
     "metadata": {},
     "output_type": "execute_result"
    }
   ],
   "source": [
    "import os\n",
    "import sys\n",
    "\n",
    "os.path.dirname(sys.executable) + \"\\python.exe\"\n",
    "\n",
    "\n"
   ]
  },
  {
   "cell_type": "code",
   "execution_count": 8,
   "metadata": {},
   "outputs": [
    {
     "data": {
      "text/plain": [
       "'C:\\\\Users\\\\Rhys Logan\\\\OneDrive\\\\Desktop\\\\740\\\\Scripts\\\\update_data.py'"
      ]
     },
     "execution_count": 8,
     "metadata": {},
     "output_type": "execute_result"
    }
   ],
   "source": [
    "\n",
    "\n",
    "\n",
    "user = os.environ['USERPROFILE']\n",
    "item_list = [user, 'OneDrive', 'Desktop', '740', \"Scripts\", \"update_data.py\"]\n",
    "\n",
    "\n",
    "path = \"\\\\\"\n",
    "for item in item_list:\n",
    "    path = os.path.join(path, item)\n",
    "    \n",
    "\n",
    "path"
   ]
  }
 ],
 "metadata": {
  "kernelspec": {
   "display_name": "Python 3.10.1 64-bit",
   "language": "python",
   "name": "python3"
  },
  "language_info": {
   "codemirror_mode": {
    "name": "ipython",
    "version": 3
   },
   "file_extension": ".py",
   "mimetype": "text/x-python",
   "name": "python",
   "nbconvert_exporter": "python",
   "pygments_lexer": "ipython3",
   "version": "3.10.1"
  },
  "orig_nbformat": 4,
  "vscode": {
   "interpreter": {
    "hash": "0bb3cc344a39c5d156fcdd5f6517bab7a31e5098299ccc8953977c2a4c1e9c67"
   }
  }
 },
 "nbformat": 4,
 "nbformat_minor": 2
}
