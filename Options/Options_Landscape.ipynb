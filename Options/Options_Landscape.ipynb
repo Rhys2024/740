{
 "cells": [
  {
   "cell_type": "code",
   "execution_count": 2,
   "metadata": {},
   "outputs": [
    {
     "data": {
      "text/plain": [
       "'/Users/rhys/Desktop/740/Reference_Data/constituents.csv'"
      ]
     },
     "execution_count": 2,
     "metadata": {},
     "output_type": "execute_result"
    }
   ],
   "source": [
    "import yfinance as yf\n",
    "import pandas as pd\n",
    "import numpy as np\n",
    "import datetime\n",
    "from FileFinder import FileFinder as ff\n",
    "\n",
    "path = ff.get_path('constituents.csv')\n",
    "\n",
    "#path = \"Users/rhys/Desktop/740/Reference_Data/constituents.csv\"\n",
    "\n",
    "path\n"
   ]
  },
  {
   "cell_type": "code",
   "execution_count": 3,
   "metadata": {},
   "outputs": [],
   "source": [
    "\n",
    "sp500_Data = pd.read_csv(path)\n",
    "\n",
    "# .sample(100)\n",
    "symbols = sp500_Data['Symbol'].to_list()\n",
    "sector = sp500_Data['Sector'].to_list()\n",
    "\n",
    "\n",
    "def sort_tick_frame(calls_df, puts_df, exp, tick):\n",
    "    \n",
    "    now = datetime.datetime.now()\n",
    "    \n",
    "    df = pd.concat([calls_df, puts_df], axis = 0)\n",
    "    df['mark'] = (df['bid'] + df['ask']) / 2 \n",
    "    df['expirationDate'] = exp\n",
    "    df['days_to_expiration'] = [(pd.to_datetime(i) - now).days for i in df['expirationDate']]\n",
    "    df['ticker'] = tick\n",
    "    df['sector'] = sector[num]\n",
    "    #df['CALL'] = df['contractSymbol'].str[4:].apply(lambda x: \"C\" in x)\n",
    "    df = df.drop(columns = ['contractSize', 'currency', 'lastTradeDate'])\n",
    "    \n",
    "    return df"
   ]
  },
  {
   "cell_type": "code",
   "execution_count": null,
   "metadata": {},
   "outputs": [],
   "source": [
    "\n",
    "\n",
    "options = pd.DataFrame()\n",
    "\n",
    "length = len(symbols)\n",
    "count = 1\n",
    "for num, tick in enumerate(symbols):\n",
    "    \n",
    "    \n",
    "    print(f\"{count} of {length}\")\n",
    "    count += 1\n",
    "    \n",
    "    if '.' in tick:\n",
    "        tick.replace('.', '-')\n",
    "    \n",
    "    ticker = yf.Ticker(tick)\n",
    "    exprys = ticker.options\n",
    "    \n",
    "    for exp in exprys:\n",
    "        \n",
    "        ticker_options = ticker.option_chain(exp)\n",
    "        \n",
    "        calls = ticker_options.calls\n",
    "        calls['inTheMoney'] = calls['inTheMoney'].astype(\"int32\")\n",
    "        calls['CALL'] = 1\n",
    "        puts = ticker_options.puts\n",
    "        puts['inTheMoney'] = puts['inTheMoney'].astype(\"int32\")\n",
    "        puts['CALL'] = 0\n",
    "        \n",
    "        this_ticker = sort_tick_frame(ticker_options.calls, ticker_options.puts, exp, tick)\n",
    "        options = pd.concat([options, this_ticker], axis = 0, ignore_index=True)"
   ]
  },
  {
   "cell_type": "code",
   "execution_count": null,
   "metadata": {},
   "outputs": [],
   "source": [
    "\n",
    "options_per_exp_date = {}\n",
    "call_options_per_exp_date = {}\n",
    "\n",
    "time_buckets = ['<1M', '1-3M', '3-6M', '6M-1Y', '1-2Y', '2+Y']\n",
    "\n",
    "for exp in options.days_to_expiration.sort_values().unique():\n",
    "    \n",
    "    if exp <= 30:\n",
    "        \n",
    "        key = time_buckets[0]\n",
    "        \n",
    "    elif exp <= 90:\n",
    "        key = time_buckets[1]\n",
    "    \n",
    "    elif exp <= 180:\n",
    "        key = time_buckets[2]\n",
    "    \n",
    "    elif exp <= 365:\n",
    "        key = time_buckets[3]\n",
    "    \n",
    "    elif exp <= 730:\n",
    "        key = time_buckets[4]\n",
    "    \n",
    "    elif exp > 730:\n",
    "        key = time_buckets[5]\n",
    "        \n",
    "    options_per_exp_date[key] = {}\n",
    "    options_per_exp_date[key]['put'] = options.loc[ (options.days_to_expiration == exp) & (options.CALL == 0) & (options.inTheMoney == 1) ]['mark'].mean()\n",
    "    options_per_exp_date[key]['call'] = options.loc[ (options.days_to_expiration == exp) & (options.CALL == 1) & (options.inTheMoney == 1) ]['mark'].mean()\n"
   ]
  },
  {
   "cell_type": "code",
   "execution_count": null,
   "metadata": {},
   "outputs": [],
   "source": [
    "\n",
    "\n",
    "pd.DataFrame(options_per_exp_date).T.plot.bar()\n",
    "\n"
   ]
  }
 ],
 "metadata": {
  "interpreter": {
   "hash": "c6e4e9f98eb68ad3b7c296f83d20e6de614cb42e90992a65aa266555a3137d0d"
  },
  "kernelspec": {
   "display_name": "Python 3.9.13 ('base')",
   "language": "python",
   "name": "python3"
  },
  "language_info": {
   "codemirror_mode": {
    "name": "ipython",
    "version": 3
   },
   "file_extension": ".py",
   "mimetype": "text/x-python",
   "name": "python",
   "nbconvert_exporter": "python",
   "pygments_lexer": "ipython3",
   "version": "3.9.13"
  },
  "orig_nbformat": 4
 },
 "nbformat": 4,
 "nbformat_minor": 2
}
