{
 "cells": [
  {
   "cell_type": "code",
   "execution_count": 2,
   "metadata": {},
   "outputs": [
    {
     "data": {
      "text/plain": [
       "4"
      ]
     },
     "execution_count": 2,
     "metadata": {},
     "output_type": "execute_result"
    }
   ],
   "source": [
    "import quantsbin.derivativepricing as qbdp\n",
    "import yfinance as yf\n",
    "from datetime import date, timedelta\n",
    "from datetime import datetime\n",
    "from dateutil.relativedelta import *\n",
    "import numpy as np\n",
    "\n",
    "\n",
    "ticker = 'IWM'\n",
    "\n",
    "strike_price = 216\n",
    "\n",
    "buy_price = 196\n",
    "\n",
    "now = datetime.now()\n",
    "\n",
    "exp = '20220304'\n",
    "\n",
    "today = date.today()\n",
    "\n",
    "#today.strftime(\"%d%m%Y\")\n",
    "today_string = today.strftime(\"%Y%m%d\")\n",
    "'''\n",
    "for i in str(today):\n",
    "    if i != '-':\n",
    "        today_string =today_string + i\n",
    "'''\n",
    "\n",
    "option1 = qbdp.EqOption(option_type='Call', strike=strike_price, expiry_date= exp)\n",
    "\n",
    "#option1.payoff(220)\n",
    "\n",
    "# SHOW PAYOFF\n",
    "#eq1_payoff = qbdp.Plotting(option1,'payoff',x_axis_range=[buy_price-20,strike_price+20]).line_plot()\n",
    "#eq1_payoff.show()\n",
    "\n",
    "\n",
    "current_price = yf.download(ticker, interval = '1m',start = now+timedelta(minutes = -2), end = now)['Close'][-1]\n",
    "\n",
    "\n",
    "closes = yf.download(ticker, start = today + timedelta(days = -120), end = today, )['Close']\n",
    "\n",
    "log_ret = np.log(closes/closes.shift(1))\n",
    "\n",
    "vol = log_ret.rolling(window=20).std() * np.sqrt(252)\n",
    "\n",
    "\n",
    "\n",
    "ok = option1.engine(model='BSM', pricing_date=now, spot0= 220, rf_rate=0.02, volatility=)\n"
   ]
  },
  {
   "cell_type": "code",
   "execution_count": 110,
   "metadata": {},
   "outputs": [
    {
     "name": "stdout",
     "output_type": "stream",
     "text": [
      "[*********************100%***********************]  1 of 1 completed\n",
      "199.66000366210938\n",
      "[*********************100%***********************]  1 of 1 completed\n",
      "0.6852509273139589\n"
     ]
    },
    {
     "data": {
      "text/plain": [
       "{'delta': 0.10311483081718081,\n",
       " 'gamma': 0.012482243106146849,\n",
       " 'theta': -0.04138572947294537,\n",
       " 'vega': 10.414989995485106,\n",
       " 'rho': 1.7118032581131821,\n",
       " 'phi': -1.7718800517407072}"
      ]
     },
     "execution_count": 110,
     "metadata": {},
     "output_type": "execute_result"
    }
   ],
   "source": [
    "current_price = yf.download(ticker, interval = '1m',start = now+timedelta(minutes = -2), end = now)['Close'][-1]\n",
    "\n",
    "print(current_price)\n",
    "\n",
    "closes = yf.download(ticker, start = today + timedelta(days = -120), end = today, )['Close']\n",
    "\n",
    "log_ret = np.log(closes/closes.shift(1))\n",
    "\n",
    "vol = log_ret.rolling(window=20).std() * np.sqrt(252)\n",
    "\n",
    "option_at_purchase_date = option1.engine(model='BSM', pricing_date=today_string, spot0=buy_price, rf_rate=0.02, volatility=vol[-1])\n",
    "\n",
    "option_at_purchase_date.risk_parameters()\n",
    "\n",
    "option_at_current_time = option1.engine(model='BSM', pricing_date=today_string, spot0=current_price, rf_rate=0.02, volatility=vol[-1])\n",
    "\n",
    "# Multiply by two (we bought 2 contracts)\n",
    "(2*(option_at_current_time.valuation() - option_at_purchase_date.valuation())) * 100\n",
    "\n",
    "option_at_purchase_date.risk_parameters()\n"
   ]
  },
  {
   "cell_type": "code",
   "execution_count": 159,
   "metadata": {},
   "outputs": [],
   "source": [
    "import quantsbin.derivativepricing as qbdp\n",
    "import yfinance as yf\n",
    "from datetime import date, timedelta\n",
    "from datetime import datetime\n",
    "from dateutil.relativedelta import *\n",
    "import numpy as np\n",
    "import yliveticker as live\n",
    "import pandas as pd\n",
    "import matplotlib.pyplot as plt\n",
    "\n",
    "class Options740():\n",
    "    \n",
    "    def __init__(self, ticker, price, strike, exp, date_purchased, num_contracts):\n",
    "        \n",
    "        self.ticker = ticker\n",
    "        self.exp = exp\n",
    "        self.date_purchased = date_purchased\n",
    "        self.strike = strike\n",
    "        self.buy_price = price\n",
    "        self.today = date.today()\n",
    "        self.now = datetime.now()\n",
    "        #self.current_price = live.YLiveTicker(on_ticker=on_new_msg, ticker_names=[ticker])\n",
    "        self.volatility = self.get_vol()\n",
    "        self.today_string = today.strftime(\"%Y%m%d\")\n",
    "        \n",
    "        self.num_contracts = num_contracts\n",
    "        \n",
    "        self.option_module = qbdp.EqOption(option_type='Call', strike=strike_price, expiry_date= exp)\n",
    "\n",
    "        self.option_at_purchase_date = self.option_module.engine(model='BSM', pricing_date=today_string, spot0= self.buy_price, rf_rate=0.02, volatility=vol[-1])\n",
    "        \n",
    "        self.starting_greeks = self.option_at_purchase_date.risk_parameters()\n",
    "        \n",
    "        self.starting_valuation = self.option_at_purchase_date.valuation()\n",
    "        \n",
    "        #self.greeks_over_times = \n",
    "        \n",
    "    def get_vol(self):\n",
    "        \n",
    "        closes = yf.download(self.ticker, start = self.today + timedelta(days = -120), end = self.today, progress=False)['Close']\n",
    "\n",
    "        log_ret = np.log(closes/closes.shift(1))\n",
    "\n",
    "        return log_ret.rolling(window=20).std() * np.sqrt(252)\n",
    "    \n",
    "    \n",
    "    def live_updates(self):\n",
    "        \n",
    "        #self.live_profit = []\n",
    "        \n",
    "        #self.index = []\n",
    "        \n",
    "        live_prices = live.YLiveTicker(on_ticker=self.on_new_msg, ticker_names=[ticker])\n",
    "        \n",
    "        \n",
    "    def on_new_msg(self, ws, msg):\n",
    "        \n",
    "        self.current_price = msg['price']\n",
    "        self.option_at_current_time = self.option_module.engine(model='BSM', pricing_date=today_string, spot0=self.current_price, rf_rate=0.02, volatility=vol[-1])\n",
    "        self.live_greeks = self.option_at_current_time.risk_parameters()\n",
    "        \n",
    "        self.live_delta_change = self.live_greeks['delta'] - self.starting_greeks['delta']\n",
    "        \n",
    "        #self.live_profit.append((self.option_at_current_time.valuation() - self.starting_valuation) * self.num_contracts * 100)\n",
    "        #self.index.append(msg['timestamp'])\n",
    "        \n",
    "        self.live_profit = (self.option_at_current_time.valuation() - self.starting_valuation) * self.num_contracts * 100\n",
    "        \n",
    "        \n",
    "        #plt.show()\n",
    "        #plt.plot(self.index, self.live_profit)\n",
    "        #plt.show(block=False)\n",
    "        #plt.draw()\n",
    "        #plt.pause(0.001)\n",
    "        \n",
    "        print(f'Live Profits: {self.live_profit}')\n",
    "        print(f'Delta Change since purchase: {self.live_delta_change}\\n\\n')\n",
    "        \n",
    "        "
   ]
  },
  {
   "cell_type": "code",
   "execution_count": 160,
   "metadata": {},
   "outputs": [
    {
     "name": "stderr",
     "output_type": "stream",
     "text": [
      "[2022-01-31 16:55:20.151046] ### connection is open ###\n",
      "[2022-01-31 16:55:37.146656] \n",
      "[2022-01-31 16:55:37.167988] YLiveTicker.on_close() takes 2 positional arguments but 4 were given\n"
     ]
    }
   ],
   "source": [
    "\n",
    "opt = Options740(ticker, buy_price, strike_price, exp, today_string, 2)\n",
    "\n",
    "\n",
    "opt.live_updates()"
   ]
  },
  {
   "cell_type": "code",
   "execution_count": null,
   "metadata": {},
   "outputs": [],
   "source": []
  }
 ],
 "metadata": {
  "interpreter": {
   "hash": "e19f19740114014754e5580f4caf694ba285f0f088ebdab1801f0a356ef5f251"
  },
  "kernelspec": {
   "display_name": "Python 3.10.1 64-bit",
   "language": "python",
   "name": "python3"
  },
  "language_info": {
   "codemirror_mode": {
    "name": "ipython",
    "version": 3
   },
   "file_extension": ".py",
   "mimetype": "text/x-python",
   "name": "python",
   "nbconvert_exporter": "python",
   "pygments_lexer": "ipython3",
   "version": "3.10.1"
  },
  "orig_nbformat": 4
 },
 "nbformat": 4,
 "nbformat_minor": 2
}
