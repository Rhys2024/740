{
 "cells": [
  {
   "cell_type": "code",
   "execution_count": 94,
   "metadata": {},
   "outputs": [],
   "source": [
    "import numpy as np\n",
    "import pandas as pd\n",
    "from Sector_Exposure import Rate_Exposures\n",
    "import fredapi as fa\n",
    "from datetime import date\n",
    "import Useful_Functions as u\n",
    "from sklearn.preprocessing import MinMaxScaler, StandardScaler\n",
    "import matplotlib.pyplot as plt\n",
    "from sklearn.ensemble import RandomForestClassifier\n",
    "from sklearn.metrics import accuracy_score\n",
    "\n",
    "fred = fa.Fred('4fb0ce271d0f66f4b5b3904b4aaf1dd0')\n",
    "\n",
    "cutoff = .7\n",
    "\n",
    "sectors_df = pd.read_csv(\"sectors_and_rates.csv\", index_col = \"Date\")\n",
    "\n",
    "train_df = sectors_df[:int(len(sectors_df)*cutoff)]\n",
    "test_df = sectors_df[int(len(sectors_df)*cutoff):]\n",
    "#sectors_df['inflation'] = fred.get_series('T10YIE', observation_start = '2010-01-04', end = date.today())\n"
   ]
  },
  {
   "cell_type": "code",
   "execution_count": 95,
   "metadata": {},
   "outputs": [],
   "source": [
    "\n",
    "# , \"inflation\"\n",
    "train_exposure = Rate_Exposures(train_df, 252, 30, ['Real Yield', 'Yield Curve'], \"SP-500\")\n",
    "test_exposure = Rate_Exposures(test_df, 252, 30, ['Real Yield', 'Yield Curve'], \"SP-500\")"
   ]
  },
  {
   "cell_type": "code",
   "execution_count": 96,
   "metadata": {},
   "outputs": [],
   "source": [
    "\n",
    "features = train_exposure.monthly_scores[u.ry]\n",
    "labels = [int(i) for i in train_exposure.forward_returns_monthly[u.ut] > 0.0]\n",
    "train_frame = pd.DataFrame()\n",
    "train_frame['above_market'] = pd.Series(labels, index = train_exposure.forward_returns_monthly.index)\n",
    "train_frame['ry_scores'] = features\n",
    "train_frame = train_frame.dropna()\n",
    "\n"
   ]
  },
  {
   "cell_type": "code",
   "execution_count": 97,
   "metadata": {},
   "outputs": [
    {
     "data": {
      "text/plain": [
       "0.4482758620689655"
      ]
     },
     "execution_count": 97,
     "metadata": {},
     "output_type": "execute_result"
    }
   ],
   "source": [
    "\n",
    "labels_test = [int(i) for i in test_exposure.forward_returns_monthly[u.ut] > 0.0]\n",
    "test_frame = pd.DataFrame()\n",
    "test_frame['above_market'] = pd.Series(labels_test, index = test_exposure.forward_returns_monthly.index)\n",
    "test_frame['ry_scores'] = test_exposure.monthly_scores[u.ry]\n",
    "test_frame = test_frame.dropna()\n",
    "\n",
    "X = np.array(train_frame['ry_scores']).reshape(-1,1)\n",
    "y = train_frame['above_market']\n",
    "\n",
    "X_test = np.array(test_frame['ry_scores']).reshape(-1,1)\n",
    "y_test = test_frame['above_market']\n",
    "\n",
    "forest = RandomForestClassifier().fit(X, y)\n",
    "\n",
    "preds = forest.predict(X_test)\n",
    "\n",
    "accuracy_score(y_test, preds)\n"
   ]
  },
  {
   "cell_type": "code",
   "execution_count": 99,
   "metadata": {},
   "outputs": [
    {
     "data": {
      "text/plain": [
       "-0.016796926390312068"
      ]
     },
     "execution_count": 99,
     "metadata": {},
     "output_type": "execute_result"
    }
   ],
   "source": [
    "\n",
    "evaluate = pd.DataFrame(index = test_frame.index)\n",
    "evaluate['above_market'] = X_test\n",
    "evaluate['returns'] = test_exposure.forward_returns_monthly[u.ut]\n",
    "evaluate['preds'] = preds\n",
    "\n",
    "evaluate.returns.loc[evaluate.preds == 1].mean()\n"
   ]
  }
 ],
 "metadata": {
  "interpreter": {
   "hash": "c6e4e9f98eb68ad3b7c296f83d20e6de614cb42e90992a65aa266555a3137d0d"
  },
  "kernelspec": {
   "display_name": "Python 3.9.10 ('base')",
   "language": "python",
   "name": "python3"
  },
  "language_info": {
   "codemirror_mode": {
    "name": "ipython",
    "version": 3
   },
   "file_extension": ".py",
   "mimetype": "text/x-python",
   "name": "python",
   "nbconvert_exporter": "python",
   "pygments_lexer": "ipython3",
   "version": "3.9.13"
  },
  "orig_nbformat": 4
 },
 "nbformat": 4,
 "nbformat_minor": 2
}
